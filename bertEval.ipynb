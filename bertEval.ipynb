{
 "cells": [
  {
   "cell_type": "markdown",
   "metadata": {},
   "source": [
    "The goal of this notebook is to evaluate the embeddings that we have created. Specifically, we are interested in how well (both qualitative and quantitatively) our embeddings do at matching questions with context in the statement portion of the earnings call transcript. Since we divided the statements portion of each earnings call transcript into chunks of size at most 64 words, this reduces to matching each question with the statement chunk that is most \"similar\" in terms of some predefined similarity metric (e.g. cosine similarity)."
   ]
  },
  {
   "cell_type": "code",
   "execution_count": 165,
   "metadata": {},
   "outputs": [],
   "source": [
    "import numpy as np\n",
    "import pickle\n",
    "import matplotlib.pyplot as plt"
   ]
  },
  {
   "cell_type": "code",
   "execution_count": 173,
   "metadata": {},
   "outputs": [],
   "source": [
    "# Change this to point to your embeddings\n",
    "FILE_PATH = 'embeddings/bert_embeddings.pickle'"
   ]
  },
  {
   "cell_type": "code",
   "execution_count": 174,
   "metadata": {},
   "outputs": [],
   "source": [
    "with open(FILE_PATH, 'rb') as f:\n",
    "    transcript_embeddings = pickle.load(f)"
   ]
  },
  {
   "cell_type": "code",
   "execution_count": 175,
   "metadata": {},
   "outputs": [],
   "source": [
    "def cosine_sim(u, v, sparse=False):\n",
    "    if sparse:\n",
    "        u = u.toarray().T\n",
    "        v = v.toarray().T\n",
    "    u = np.reshape(u, (u.shape[0],))\n",
    "    v = np.reshape(v, (v.shape[0],))\n",
    "    return np.dot(u.T, v) / (np.linalg.norm(u) * np.linalg.norm(v))"
   ]
  },
  {
   "cell_type": "code",
   "execution_count": 176,
   "metadata": {},
   "outputs": [],
   "source": [
    "def jaccard_sim(u, v, sparse=False):\n",
    "    if sparse:\n",
    "        u = u.toarray().T\n",
    "        v = v.toarray().T\n",
    "    return np.sum(np.minimum(u, v)) / np.sum((u + v))"
   ]
  },
  {
   "cell_type": "code",
   "execution_count": 177,
   "metadata": {},
   "outputs": [],
   "source": [
    "# Define this as you see fit\n",
    "sim_func = cosine_sim"
   ]
  },
  {
   "cell_type": "code",
   "execution_count": 178,
   "metadata": {},
   "outputs": [],
   "source": [
    "NUM_SAMPLES = len(transcript_embeddings)"
   ]
  },
  {
   "cell_type": "code",
   "execution_count": 180,
   "metadata": {},
   "outputs": [],
   "source": [
    "q_to_chunk = []\n",
    "scores = []\n",
    "for i in range(NUM_SAMPLES):\n",
    "    curr = {}\n",
    "    for q_a_idx in range(len(transcript_embeddings[i][1])):\n",
    "        if transcript_embeddings[i][1][q_a_idx][1] == 1: continue  # This is an answer\n",
    "        q_embedding = transcript_embeddings[i][1][q_a_idx][0]\n",
    "        \n",
    "        curr_best_score, curr_best_chunk = None, None\n",
    "        for chunk_idx in range(len(transcript_embeddings[i][0])):\n",
    "            chunk_embedding = transcript_embeddings[i][0][chunk_idx]\n",
    "            score = sim_func(q_embedding, chunk_embedding)\n",
    "            \n",
    "            if curr_best_score is None or score > curr_best_score:\n",
    "                curr_best_score = score\n",
    "                curr_best_chunk = chunk_idx\n",
    "        scores.append(curr_best_score)\n",
    "        curr[q_a_idx] = curr_best_chunk\n",
    "    q_to_chunk.append(curr)"
   ]
  },
  {
   "cell_type": "code",
   "execution_count": 181,
   "metadata": {},
   "outputs": [
    {
     "data": {
      "image/png": "[encoded data removed]",
      "text/plain": [
       "<Figure size 432x288 with 1 Axes>"
      ]
     },
     "metadata": {
      "needs_background": "light"
     },
     "output_type": "display_data"
    }
   ],
   "source": [
    "num_bins = 20\n",
    "n, bins, patches = plt.hist(scores, num_bins, facecolor='blue', alpha=0.5, rwidth=0.85)\n",
    "plt.grid(axis='y', alpha=0.5)\n",
    "plt.xlabel('Cosine Similarity')\n",
    "plt.ylabel('Count') # Adjust if using Jaccard Similarity\n",
    "plt.title(r'Histogram of Cosine Similarity Scores Between Questions and Model Outputs')\n",
    "plt.show()"
   ]
  },
  {
   "cell_type": "code",
   "execution_count": 182,
   "metadata": {},
   "outputs": [],
   "source": [
    "# Now we load the original transcripts (only using the training data for now)\n",
    "with open('data/transcripts_train.pickle', 'rb') as f:\n",
    "    transcripts = pickle.load(f)"
   ]
  },
  {
   "cell_type": "code",
   "execution_count": 185,
   "metadata": {
    "scrolled": false
   },
   "outputs": [
    {
     "name": "stdout",
     "output_type": "stream",
     "text": [
      "QUESTION TEXT:\n",
      "\n",
      "operator instructions first question comes line bruce geller dghm please proceed hi good morning guys\n",
      "\n",
      "ANSWER TEXT\n",
      "\n",
      "hi bruce\n",
      "\n",
      "MODEL OUTPUT:\n",
      "\n",
      "thank operator good morning thank joining us conference call fourth fiscal quarter full year ended october 1 2016 call today michael weinstein chairman ceo vinny pascal chief operating officer yet obtained copy press release issued newswire yesterday available website review full text press release along associated financial tables please go homepage begin however like read safe harbor statement need remind everyone part discussion afternoon\n",
      "\n",
      "###########################################################################\n",
      "QUESTION TEXT:\n",
      "\n",
      "good thanks glad hear things turned around far current quarter 7 negative comp related 13 weeks versus 14 weeks\n",
      "\n",
      "ANSWER TEXT\n",
      "\n",
      "yes includes additional week last year looking comparing 14 weeks 13 weeks year dismal might imply comp could come something like 2 probably somewhere along line 2 3\n",
      "\n",
      "MODEL OUTPUT:\n",
      "\n",
      "excuse wrong roughly 7 decline fourth quarter last year 11 weeks present quarter 4 somewhat big switch leads us believe overprice menus products still value election may big interference business know going rest restaurant industry fairly well structural problems fourth quarter terms interference sales rustic inn fort lauderdale still reached substantial detour sits canal bridge goes main road restaurant canal started big repair job\n",
      "\n",
      "###########################################################################\n",
      "QUESTION TEXT:\n",
      "\n",
      "got okay kind go trends market also extent provide framework coming year terms ebitda know lot moving parts nice acquisition additive could layout somewhat framework might helpful michael bruce certainly new york strong 11 weeks think really well positioned market made minimal minimal price increase changes menus look going around city people response minimum wage raised menu prices significantly think sort umbrella safety menu prices hearing complaints prices think good shape new york washington january 2 starting refurbish sequoia hurt us somewhat second fiscal quarter going carrying payroll going carrying rent conjunction signing new lease 15 years fair rent sequoia washington roughly seats old facility well think something core basis brings current design edgy design facility ability increase sales dramatically especially events way reconfiguring adaptable large events business january april 15 roughly think building exciting take little bit hit year second fiscal quarter sequoia thunder grill well restaurant washington new jersey well despite address atlantic city meadowlands closing comments somebody wants ask question new jersey really well much connecticut well florida big problem florida detour rustic otherwise well shuckers well shuckers 11 weeks ending december ending week ago december quarter first quarter 17 last year acquired las vegas turned around us relatively flat las vegas since 2008 went economic decline coming two things going vegas still expanding number restaurant seats number casino hotel rooms new york new york started big park project basically entrances blocked closed put new competition well added restaurants park opened april finding even addition restaurant seats new york new york vegas better general population visitors better december 11 weeks almost 9 seen long time would tell trends think better comp sales based upon seeing first 11 weeks december one interesting things way bryant park strong new new anymore southwest porch productive bryant park grill despite fact 3 less events la carte business listed sales bryant park 5 11 weeks ended la carte demand goes beyond events think true restaurants would tell think going comp well think still going suffer little bit rustic fort lauderdale least good last year comp year bad terms sales reduced sales ebitda rustic take 53rd week comparison rustic good part ebitda problem past year think ebitda going good loss jupiter compared well prior year still loss goes away alabama properties strong comping well excited happens sequoia reopens april time spring summer season think going well think set well pleasure bruce next question comes line alan goldberg private investor please proceed question good morning gentlemen private investor novice investor involved stock several years accumulating want tell michael may call live palm beach one travels 70 miles get many times question none zero restaurant going explode pain want use word pain indiscernible telephone pain indiscernible fixing streets roads done question going happen wanted tell pleased novice investor ran hedge fund senior officer major brokerage firm new extremely pleased way business run sort question ca answer though think capitalization company selling half sales less profitable know trying buy back stock stock difficult buy seen last last 50 years business ca answer hear asking closely controlled board talk taking company private larger companies reached talk future way pleased pleased going thrilled way things well thank much truly appreciated address issues strangely enough anecdotally know everybody time got call professor university michigan runs investment class called said yesterday said coming new york next week would like lunch taught class guess private equity investments private equity funds work said go students said got smart group kids said go find companies private said top list well know still hear honestly previous life would said god opportunity waiting must tell honestly going 74 next week done ca believe going think course opinion opinion undervalued yes problem terms taking company private number one age sound vigorous feel vigorous loving walking office every day appropriate time talk meadowlands really believe even though referendum shot year put defense terms marketing try get referendum passed polling bad first place would us group involved would spent 35 million outcome vote would uncertain like referendum fact required us atlantic city licensee operator would highly dilutive operator virtue legislation 50 casino voted positively placed meadowlands thought outcome referendum even significant marketing effort uncertain like terms referendum think new governor new president legislature senate new jersey outcome could much beneficial us referendum reintroduced think happen two years question everybody believes site casino north away atlantic city meadowlands racetrack spoken casino operators atlantic city vegas quite honestly say site makes sense think makes sense one problems going private put value meadowlands investment 5 million last thing want try put value something either going happen going happen 5 million happens cheap price piece think would significant revenue generator also exclusive food beverage exception hard rock cafe hard rock partner venture chooses put hard rock cafe way going private unfair shareholders think happens big pay day way evaluate piece business one part discussion sort negates going private second part quite honestly age vinny age bob president young man thought agreed young men sort rigorous want sneeze one day subordinated lender come say hey flippant understand completely go please sorry things parameters sort controlling fact happy public company running quite honestly know sounds look stockholder could benefit benefit benefit vinny benefit bob benefit shareholders going private holder play think give stay public keep next two years big shift business envisioned real estate prices would especially new york washington go properties shifting focus try find interesting real estate acquisitions operating businesses restaurant businesses well buy good price rustic shareholder longer alive could say without worry phone bought business million profit know property adam would like sell right bought said hey earning 1 million million probably million improve buyer owner family going sell locally restaurant buyers locally going sell small amount cash lot notes time wait collect notes landry acquisitive companies really want going buy stepped million cash asking much paid million thought menu underpriced raised prices bought lo behold second year owned million ebitda operating profit million gone back 7 million 6 million detour point said adam give 10 million give 1 million rent next 20 years know know anybody world would grab yes situation true shuckers situation true alabama guys selling us property getting fair price looking wrong way reason looking wrong way want operate anymore put sale lease backs thing taken least paid would operate would find operator would better breaking parts think got fair price got asking fair price point view bought things 3x 4x operating profit looking think meadowlands fact 6 million 7 million operating profit coming places think real estate undervalued addition think serve shareholders better staying course hopefully living long enough see racetrack casino racetrack meadowlands situation let call buyback program buyback program quite honestly instituted 2 reasons number one looking referendum books saying nobody putting premium stock valuing option meadowlands possibility casino meadowlands nobody pricing stock believe right make certain assumptions business worth without casino worth 23 24 without casino well worth 23 24 time instituted 21 22 instituted buyback worth without casino part referendum exists said nobody pricing referendum passes may slow grasp could mean company right instituted buyback saying hey want position block stock comes position buy buying 100 200 shares time right difficult buy think public shareholders able buy stock without interference want block show want position buy reason buyback pick 200 300 400 shares time answered questions thank much time would like sometime feel free call new york quite often thank much wonderful job appreciate thank much thank guess ready questions next question comes line jeff kay ph private investor please proceed question hi good morning gentlemen congratulations continued good performance couple questions new yorker private investor shareholder several years wall street professional 30 plus years question first question talking performance properties seem well election cycle aside fort lauderdale property aside know properties new york florida question regarding longer standing properties disappointed performance chronic underperformance exist ones remedy strategy property seems disappointing pulling way sell change menu strategy properties chronically underperforming two one canyon road first avenue 75th street small restaurant always kept making good money good money relative bryant park larger properties making couple hundred thousand dollars year time rent gone annual bumps minimum wage basically wiped profitability process selling one manager chef going get much money throwing negative cash flow never meaningful owned since 1984 lot legacy employees trying figure way years keep employed minimum wage operate restaurant public company abiding labor laws profitably new york unless sheets home run line outside time canyon road disposing probably month 2 away getting liquor license books boston become bit disappointment bob many years left 16 years left lease lease bought new york real estate developer lease bought faneuil hall bought new york stock based real estate developer understand rents approaching 100 foot faneuil hall lease lease lease building previously owned family one two buildings faneuil hall owned ross corporation bought bought one oldest restaurants operating restaurants united states also picked lease quite undervalued negotiated lease directly family part favorable lease comes 25 foot part total negotiation paid 3 million restaurant based upon fact able get lease substantially margin thought margin safety time became big earner problem everybody wants stay 140 years ago although modern prices menu menu particularly attractive tourists want feeling walking back time menu edgy think going keep something change menu dramatically danger found times tried change menu significantly trade name keeping trade name people coming knew coming trade name told stay away people coming like trade name saw new menu get angry never successful retooling restaurant trade name successful taking locations well redoing putting new trade name menu new decor getting productive represents kind problem exploring couple real estate brokerage companies could get lessor leasing another retailer probably soft goods retailer space valuable far along yet focus focusing major problem company terms stores productive could store productive could getting productive every year clyde clyde new yorker 37th street 10th avenue yes familiar think great installation reviews clyde sensational go opentable reviewed well restaurant course time found footing clyde walt frazier know whose nickname clyde professional basketball player new york wonderful partner interesting thing clyde 35 foot square feet year told people couple years ago corner one block south us size went 125 foot 90 premium paying year could arithmetic lease worth lot money however hudson yards built lot activity right around us going public park right behind us leased two event spaces right behind clyde anticipation going neighborhood think clyde going extremely extremely well making changes three properties challenging us recently okay thank previous caller question regarding possibly going private response regards meadowlands potential value workaround something like sure gentlemen aware sort contingent value rights offering deal would basically carve lease meadowlands upside separate vehicle current shareholders would actually able participate sort transaction quote allowed realize value road deal could get done anyway would still upside current shareholders thought would throw last point think guys great story great job would advise future kind calls perhaps done friday right new year indiscernible think lot people like hear story know thin stock going get big institutional following small family officers private investors et cetera interested things december 30 bit challenge congratulations wanted respond contingent value rights point brought please go ahead yes discussions simpson thacher quite frankly may much wrong answer legal fees involved time quoted quite high complicated irs ruling aware dropped ball time head spinning apologize okay happy new year second point like calls december 30 morning especially given fact let office go yesterday half day blame public accountings little late getting us ready thank much comments alright happy healthy new year weinstein questions time turn back closing remarks well thank much pleased least two people seem happy think right direction please little bit patient us think ebitda start expand truly wish happy new year promise never morning december 30 resolution take care everybody look forward hearing next quarterly report\n",
      "\n",
      "ANSWER TEXT\n",
      "\n"
     ]
    },
    {
     "ename": "IndexError",
     "evalue": "list index out of range",
     "output_type": "error",
     "traceback": [
      "\u001b[0;31m---------------------------------------------------------------------------\u001b[0m",
      "\u001b[0;31mIndexError\u001b[0m                                Traceback (most recent call last)",
      "\u001b[0;32m<ipython-input-185-c6b0c5be884a>\u001b[0m in \u001b[0;36m<module>\u001b[0;34m\u001b[0m\n\u001b[1;32m      4\u001b[0m         \u001b[0mprint\u001b[0m\u001b[0;34m(\u001b[0m\u001b[0mtranscripts\u001b[0m\u001b[0;34m[\u001b[0m\u001b[0mi\u001b[0m\u001b[0;34m]\u001b[0m\u001b[0;34m[\u001b[0m\u001b[0;36m3\u001b[0m\u001b[0;34m]\u001b[0m\u001b[0;34m[\u001b[0m\u001b[0mq_idx\u001b[0m\u001b[0;34m]\u001b[0m\u001b[0;34m[\u001b[0m\u001b[0;36m0\u001b[0m\u001b[0;34m]\u001b[0m\u001b[0;34m)\u001b[0m\u001b[0;34m\u001b[0m\u001b[0;34m\u001b[0m\u001b[0m\n\u001b[1;32m      5\u001b[0m         \u001b[0mprint\u001b[0m\u001b[0;34m(\u001b[0m\u001b[0;34m\"\\nANSWER TEXT\\n\"\u001b[0m\u001b[0;34m)\u001b[0m\u001b[0;34m\u001b[0m\u001b[0;34m\u001b[0m\u001b[0m\n\u001b[0;32m----> 6\u001b[0;31m         \u001b[0mprint\u001b[0m\u001b[0;34m(\u001b[0m\u001b[0mtranscripts\u001b[0m\u001b[0;34m[\u001b[0m\u001b[0mi\u001b[0m\u001b[0;34m]\u001b[0m\u001b[0;34m[\u001b[0m\u001b[0;36m3\u001b[0m\u001b[0;34m]\u001b[0m\u001b[0;34m[\u001b[0m\u001b[0mq_idx\u001b[0m \u001b[0;34m+\u001b[0m \u001b[0;36m1\u001b[0m\u001b[0;34m]\u001b[0m\u001b[0;34m[\u001b[0m\u001b[0;36m0\u001b[0m\u001b[0;34m]\u001b[0m\u001b[0;34m)\u001b[0m\u001b[0;34m\u001b[0m\u001b[0;34m\u001b[0m\u001b[0m\n\u001b[0m\u001b[1;32m      7\u001b[0m         \u001b[0mprint\u001b[0m\u001b[0;34m(\u001b[0m\u001b[0;34m\"\\nMODEL OUTPUT:\\n\"\u001b[0m\u001b[0;34m)\u001b[0m\u001b[0;34m\u001b[0m\u001b[0;34m\u001b[0m\u001b[0m\n\u001b[1;32m      8\u001b[0m         \u001b[0mprint\u001b[0m\u001b[0;34m(\u001b[0m\u001b[0mtranscripts\u001b[0m\u001b[0;34m[\u001b[0m\u001b[0mi\u001b[0m\u001b[0;34m]\u001b[0m\u001b[0;34m[\u001b[0m\u001b[0;36m2\u001b[0m\u001b[0;34m]\u001b[0m\u001b[0;34m[\u001b[0m\u001b[0mmapping\u001b[0m\u001b[0;34m[\u001b[0m\u001b[0mq_idx\u001b[0m\u001b[0;34m]\u001b[0m\u001b[0;34m]\u001b[0m \u001b[0;34m+\u001b[0m \u001b[0;34m'\\n'\u001b[0m\u001b[0;34m)\u001b[0m\u001b[0;34m\u001b[0m\u001b[0;34m\u001b[0m\u001b[0m\n",
      "\u001b[0;31mIndexError\u001b[0m: list index out of range"
     ]
    }
   ],
   "source": [
    "for i, mapping in enumerate(q_to_chunk):\n",
    "    for q_idx in mapping.keys():\n",
    "        print (\"QUESTION TEXT:\\n\")\n",
    "        print(transcripts[i][3][q_idx][0])\n",
    "        print(\"\\nANSWER TEXT\\n\")\n",
    "        print(transcripts[i][3][q_idx + 1][0])\n",
    "        print(\"\\nMODEL OUTPUT:\\n\")\n",
    "        print(transcripts[i][2][mapping[q_idx]] + '\\n')\n",
    "        print('#' * 75)"
   ]
  },
  {
   "cell_type": "code",
   "execution_count": null,
   "metadata": {},
   "outputs": [],
   "source": []
  }
 ],
 "metadata": {
  "kernelspec": {
   "display_name": "Python 3",
   "language": "python",
   "name": "python3"
  },
  "language_info": {
   "codemirror_mode": {
    "name": "ipython",
    "version": 3
   },
   "file_extension": ".py",
   "mimetype": "text/x-python",
   "name": "python",
   "nbconvert_exporter": "python",
   "pygments_lexer": "ipython3",
   "version": "3.7.3"
  }
 },
 "nbformat": 4,
 "nbformat_minor": 2
}
