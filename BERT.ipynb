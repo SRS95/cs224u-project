{
 "cells": [
  {
   "cell_type": "markdown",
   "metadata": {},
   "source": [
    "The goal of this notebook is to use a pretrained BERT model to create embeddings of the earnings call transcripts that we have parsed and stored in the transcript data structure discussed in the FormTranscripts notebook."
   ]
  },
  {
   "cell_type": "code",
   "execution_count": 1,
   "metadata": {},
   "outputs": [],
   "source": [
    "import numpy as np\n",
    "import pandas as pd\n",
    "import pickle\n",
    "from nltk.tokenize import word_tokenize\n",
    "from bert_serving.client import BertClient\n",
    "from tqdm import tqdm"
   ]
  },
  {
   "cell_type": "code",
   "execution_count": 2,
   "metadata": {},
   "outputs": [],
   "source": [
    "# We'll begin by loading the train data along with our \n",
    "with open('data/transcripts_train.pickle', 'rb') as f:\n",
    "    transcripts = pickle.load(f)\n",
    "with open('data/id_to_row.pickle', 'rb') as f:\n",
    "    id_to_row = pickle.load(f)"
   ]
  },
  {
   "cell_type": "markdown",
   "metadata": {},
   "source": [
    "Start the BERT server by running the following from the command line (assuming you're in the cs224u-project directory):\n",
    "\n",
    "bert-serving-start -model_dir ../cs224u/data/bert/uncased_L-12_H-768_A-12/ -pooling_strategy NONE -max_seq_len NONE -show_tokens_to_client"
   ]
  },
  {
   "cell_type": "code",
   "execution_count": 3,
   "metadata": {},
   "outputs": [],
   "source": [
    "# Instantiate a BertClient object\n",
    "bc = BertClient()"
   ]
  },
  {
   "cell_type": "markdown",
   "metadata": {},
   "source": [
    "We'll begin with a toy example"
   ]
  },
  {
   "cell_type": "code",
   "execution_count": 4,
   "metadata": {},
   "outputs": [
    {
     "name": "stdout",
     "output_type": "stream",
     "text": [
      "(3, 7, 768)\n",
      "[[-0.6583949   0.00830614  0.03765348 ... -0.45243877 -0.00460901\n",
      "   0.31208587]\n",
      " [ 0.03465232  0.61453384  0.73173016 ... -0.93620336 -0.38065237\n",
      "  -0.26721236]\n",
      " [-1.3928384   0.4704191   1.006837   ... -0.9887997   0.00509461\n",
      "   0.5722854 ]\n",
      " ...\n",
      " [-1.1544309  -0.2005329   0.15407975 ...  0.07570094  0.13651484\n",
      "  -0.60283816]\n",
      " [ 0.04261789  0.01326546 -0.02783578 ...  0.00655589 -0.04553343\n",
      "   0.0079642 ]\n",
      " [-0.          0.          0.         ... -0.         -0.\n",
      "   0.        ]]\n"
     ]
    },
    {
     "name": "stderr",
     "output_type": "stream",
     "text": [
      "/anaconda3/envs/nlu/lib/python3.7/site-packages/bert_serving/client/__init__.py:277: UserWarning: server does not put a restriction on \"max_seq_len\", it will determine \"max_seq_len\" dynamically according to the sequences in the batch. you can restrict the sequence length on the client side for better efficiency\n",
      "  warnings.warn('server does not put a restriction on \"max_seq_len\", '\n"
     ]
    }
   ],
   "source": [
    "result = bc.encode([\"Hello, world.\", \"This is a test.\", \"One encoding per sentence.\"])\n",
    "print(result.shape)\n",
    "print(result[0])"
   ]
  },
  {
   "cell_type": "code",
   "execution_count": 5,
   "metadata": {},
   "outputs": [
    {
     "name": "stdout",
     "output_type": "stream",
     "text": [
      "(3, 768)\n"
     ]
    }
   ],
   "source": [
    "# We'll use max-pooling across all 768 dimensions to get a single 768-dim representation for each sentence\n",
    "result = np.max(result, axis=1)\n",
    "print(result.shape)"
   ]
  },
  {
   "cell_type": "markdown",
   "metadata": {},
   "source": [
    "We now need to do some preprocessing. Specifically, we need to chunk our question and answer text just as we did with the statements (see the FormTranscripts notebook)."
   ]
  },
  {
   "cell_type": "code",
   "execution_count": 6,
   "metadata": {},
   "outputs": [],
   "source": [
    "CHUNK_SZ = 64"
   ]
  },
  {
   "cell_type": "code",
   "execution_count": 7,
   "metadata": {},
   "outputs": [],
   "source": [
    "def create_chunks(tokens):\n",
    "    '''\n",
    "    Form a list of strings with at most CHUNK_SZ words each\n",
    "    '''\n",
    "    result = []\n",
    "    for i in range(0, len(tokens), CHUNK_SZ):\n",
    "        offset = min(CHUNK_SZ, len(tokens) - i)\n",
    "        curr_chunk = tokens[i:i + offset]\n",
    "        curr_str = ' '.join(curr_chunk)\n",
    "        result.append(curr_str)\n",
    "    return result"
   ]
  },
  {
   "cell_type": "code",
   "execution_count": 8,
   "metadata": {},
   "outputs": [],
   "source": [
    "for i in range(len(transcripts)):\n",
    "    curr_qna = transcripts[i][3]\n",
    "    for idx, elem in enumerate(curr_qna):\n",
    "        curr_tokens = word_tokenize(elem[0])\n",
    "        transcripts[i][3][idx] = (create_chunks(curr_tokens), elem[1])"
   ]
  },
  {
   "cell_type": "markdown",
   "metadata": {},
   "source": [
    "Now we're ready to encode our training data! We will create a list transcript_embeddings of the form [ [statement chunk 1 embedding, statement chunk 2 embedding, ...], [([Q1 chunk 1 embedding, Q1 chunk 2 embedding, ...], 0), ([A1 chunk 1 embedding, A1 chunk 2 embedding, ...], 1)] ]"
   ]
  },
  {
   "cell_type": "code",
   "execution_count": 27,
   "metadata": {},
   "outputs": [],
   "source": [
    "def embed_statement_chunks(chunks):\n",
    "    embeddings = bc.encode(chunks)\n",
    "    embeddings = np.max(embeddings, axis=1)\n",
    "    return list(embeddings)"
   ]
  },
  {
   "cell_type": "code",
   "execution_count": 28,
   "metadata": {},
   "outputs": [],
   "source": [
    "def embed_questions_and_answers(qna):\n",
    "    result = []\n",
    "    for elem in qna:\n",
    "        sents = [chunk for chunk in elem[0]]\n",
    "        embeddings = bc.encode(sents)\n",
    "        embeddings = np.max(embeddings, axis=1)\n",
    "        embedding = embeddings.max(axis=0)  # Just want one embedding per question or answer\n",
    "        result.append((embedding, elem[1]))\n",
    "    return result"
   ]
  },
  {
   "cell_type": "code",
   "execution_count": 43,
   "metadata": {},
   "outputs": [],
   "source": [
    "NUM_SAMPLES = 100"
   ]
  },
  {
   "cell_type": "code",
   "execution_count": 44,
   "metadata": {},
   "outputs": [
    {
     "name": "stderr",
     "output_type": "stream",
     "text": [
      "100%|██████████| 100/100 [12:24<00:00,  9.69s/it]\n"
     ]
    }
   ],
   "source": [
    "transcript_embeddings = []\n",
    "for i in tqdm(range(NUM_SAMPLES)):\n",
    "    statement_embeddings = embed_statement_chunks(transcripts[i][2])\n",
    "    qna_embeddings = embed_questions_and_answers(transcripts[i][3])\n",
    "    curr_embeddings = [statement_embeddings, qna_embeddings]\n",
    "    transcript_embeddings.append(curr_embeddings)"
   ]
  },
  {
   "cell_type": "code",
   "execution_count": 46,
   "metadata": {},
   "outputs": [],
   "source": [
    "with open('embeddings/bert_embeddings.pickle', 'wb') as f:\n",
    "    pickle.dump(transcript_embeddings, f)"
   ]
  },
  {
   "cell_type": "markdown",
   "metadata": {},
   "source": [
    "Now let's see how well we can do at contextualizing questions using these pretrained BERT embeddings by evaluating them in the EvaluateEmbeddings notebook!"
   ]
  }
 ],
 "metadata": {
  "kernelspec": {
   "display_name": "Python 3",
   "language": "python",
   "name": "python3"
  },
  "language_info": {
   "codemirror_mode": {
    "name": "ipython",
    "version": 3
   },
   "file_extension": ".py",
   "mimetype": "text/x-python",
   "name": "python",
   "nbconvert_exporter": "python",
   "pygments_lexer": "ipython3",
   "version": "3.6.7"
  }
 },
 "nbformat": 4,
 "nbformat_minor": 2
}
