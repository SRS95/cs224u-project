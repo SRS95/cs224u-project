{
 "cells": [
  {
   "cell_type": "code",
   "execution_count": 70,
   "metadata": {},
   "outputs": [],
   "source": [
    "import numpy as np\n",
    "import pandas as pd\n",
    "import pickle"
   ]
  },
  {
   "cell_type": "code",
   "execution_count": 71,
   "metadata": {},
   "outputs": [],
   "source": [
    "# Load test set\n",
    "with open('data/transcripts_test.pickle', 'rb') as f:\n",
    "    transcripts_test = pickle.load(f)"
   ]
  },
  {
   "cell_type": "code",
   "execution_count": 72,
   "metadata": {},
   "outputs": [
    {
     "data": {
      "text/html": [
       "<div>\n",
       "<style scoped>\n",
       "    .dataframe tbody tr th:only-of-type {\n",
       "        vertical-align: middle;\n",
       "    }\n",
       "\n",
       "    .dataframe tbody tr th {\n",
       "        vertical-align: top;\n",
       "    }\n",
       "\n",
       "    .dataframe thead th {\n",
       "        text-align: right;\n",
       "    }\n",
       "</style>\n",
       "<table border=\"1\" class=\"dataframe\">\n",
       "  <thead>\n",
       "    <tr style=\"text-align: right;\">\n",
       "      <th></th>\n",
       "      <th>num</th>\n",
       "      <th>file-company-name</th>\n",
       "      <th>file-exchange</th>\n",
       "      <th>file-symbol</th>\n",
       "      <th>file-published-on</th>\n",
       "      <th>file-title</th>\n",
       "      <th>company-name</th>\n",
       "      <th>quarter-year-event</th>\n",
       "      <th>symbol-exchange</th>\n",
       "      <th>symbol</th>\n",
       "      <th>datetime</th>\n",
       "      <th>order</th>\n",
       "      <th>name</th>\n",
       "      <th>content</th>\n",
       "    </tr>\n",
       "  </thead>\n",
       "  <tbody>\n",
       "    <tr>\n",
       "      <th>0</th>\n",
       "      <td>1</td>\n",
       "      <td>Ark Restaurants Corp.</td>\n",
       "      <td>NASDAQ</td>\n",
       "      <td>ARKR</td>\n",
       "      <td>2017-01-01 06:49:04</td>\n",
       "      <td>Ark Restaurants' (ARKR) CEO Michael Weinstein ...</td>\n",
       "      <td>Ark Restaurants Corp.</td>\n",
       "      <td>Q4 2016 Earnings Conference Call</td>\n",
       "      <td>NaN</td>\n",
       "      <td>ARKR</td>\n",
       "      <td>December 30, 2016 10:00 A.M. ET</td>\n",
       "      <td>1</td>\n",
       "      <td>Presentation</td>\n",
       "      <td>NaN</td>\n",
       "    </tr>\n",
       "    <tr>\n",
       "      <th>1</th>\n",
       "      <td>1</td>\n",
       "      <td>Ark Restaurants Corp.</td>\n",
       "      <td>NASDAQ</td>\n",
       "      <td>ARKR</td>\n",
       "      <td>2017-01-01 06:49:04</td>\n",
       "      <td>Ark Restaurants' (ARKR) CEO Michael Weinstein ...</td>\n",
       "      <td>Ark Restaurants Corp.</td>\n",
       "      <td>Q4 2016 Earnings Conference Call</td>\n",
       "      <td>NaN</td>\n",
       "      <td>ARKR</td>\n",
       "      <td>December 30, 2016 10:00 A.M. ET</td>\n",
       "      <td>2</td>\n",
       "      <td>Operator</td>\n",
       "      <td>Greetings, and welcome to the Ark Restaurants ...</td>\n",
       "    </tr>\n",
       "    <tr>\n",
       "      <th>2</th>\n",
       "      <td>1</td>\n",
       "      <td>Ark Restaurants Corp.</td>\n",
       "      <td>NASDAQ</td>\n",
       "      <td>ARKR</td>\n",
       "      <td>2017-01-01 06:49:04</td>\n",
       "      <td>Ark Restaurants' (ARKR) CEO Michael Weinstein ...</td>\n",
       "      <td>Ark Restaurants Corp.</td>\n",
       "      <td>Q4 2016 Earnings Conference Call</td>\n",
       "      <td>NaN</td>\n",
       "      <td>ARKR</td>\n",
       "      <td>December 30, 2016 10:00 A.M. ET</td>\n",
       "      <td>3</td>\n",
       "      <td>Bob Stewart</td>\n",
       "      <td>Thank you, operator. Good morning, and thank y...</td>\n",
       "    </tr>\n",
       "    <tr>\n",
       "      <th>3</th>\n",
       "      <td>1</td>\n",
       "      <td>Ark Restaurants Corp.</td>\n",
       "      <td>NASDAQ</td>\n",
       "      <td>ARKR</td>\n",
       "      <td>2017-01-01 06:49:04</td>\n",
       "      <td>Ark Restaurants' (ARKR) CEO Michael Weinstein ...</td>\n",
       "      <td>Ark Restaurants Corp.</td>\n",
       "      <td>Q4 2016 Earnings Conference Call</td>\n",
       "      <td>NaN</td>\n",
       "      <td>ARKR</td>\n",
       "      <td>December 30, 2016 10:00 A.M. ET</td>\n",
       "      <td>4</td>\n",
       "      <td>Michael Weinstein</td>\n",
       "      <td>Hi, everybody. If you read the release, we're ...</td>\n",
       "    </tr>\n",
       "    <tr>\n",
       "      <th>4</th>\n",
       "      <td>2</td>\n",
       "      <td>UniFirst Corp.</td>\n",
       "      <td>NYSE</td>\n",
       "      <td>UNF</td>\n",
       "      <td>2017-01-04 13:33:06</td>\n",
       "      <td>UniFirst's (UNF) CEO Ronald Croatti on Q1 2017...</td>\n",
       "      <td>UniFirst Corporation.</td>\n",
       "      <td>Q1 2017 Earnings Conference Call</td>\n",
       "      <td>NaN</td>\n",
       "      <td>UNF</td>\n",
       "      <td>January 4, 2017 10:00 AM ET</td>\n",
       "      <td>1</td>\n",
       "      <td>Presentation</td>\n",
       "      <td>NaN</td>\n",
       "    </tr>\n",
       "  </tbody>\n",
       "</table>\n",
       "</div>"
      ],
      "text/plain": [
       "   num      file-company-name file-exchange file-symbol    file-published-on  \\\n",
       "0    1  Ark Restaurants Corp.        NASDAQ        ARKR  2017-01-01 06:49:04   \n",
       "1    1  Ark Restaurants Corp.        NASDAQ        ARKR  2017-01-01 06:49:04   \n",
       "2    1  Ark Restaurants Corp.        NASDAQ        ARKR  2017-01-01 06:49:04   \n",
       "3    1  Ark Restaurants Corp.        NASDAQ        ARKR  2017-01-01 06:49:04   \n",
       "4    2         UniFirst Corp.          NYSE         UNF  2017-01-04 13:33:06   \n",
       "\n",
       "                                          file-title           company-name  \\\n",
       "0  Ark Restaurants' (ARKR) CEO Michael Weinstein ...  Ark Restaurants Corp.   \n",
       "1  Ark Restaurants' (ARKR) CEO Michael Weinstein ...  Ark Restaurants Corp.   \n",
       "2  Ark Restaurants' (ARKR) CEO Michael Weinstein ...  Ark Restaurants Corp.   \n",
       "3  Ark Restaurants' (ARKR) CEO Michael Weinstein ...  Ark Restaurants Corp.   \n",
       "4  UniFirst's (UNF) CEO Ronald Croatti on Q1 2017...  UniFirst Corporation.   \n",
       "\n",
       "                 quarter-year-event symbol-exchange symbol  \\\n",
       "0  Q4 2016 Earnings Conference Call             NaN   ARKR   \n",
       "1  Q4 2016 Earnings Conference Call             NaN   ARKR   \n",
       "2  Q4 2016 Earnings Conference Call             NaN   ARKR   \n",
       "3  Q4 2016 Earnings Conference Call             NaN   ARKR   \n",
       "4  Q1 2017 Earnings Conference Call             NaN    UNF   \n",
       "\n",
       "                          datetime  order               name  \\\n",
       "0  December 30, 2016 10:00 A.M. ET      1       Presentation   \n",
       "1  December 30, 2016 10:00 A.M. ET      2           Operator   \n",
       "2  December 30, 2016 10:00 A.M. ET      3        Bob Stewart   \n",
       "3  December 30, 2016 10:00 A.M. ET      4  Michael Weinstein   \n",
       "4      January 4, 2017 10:00 AM ET      1       Presentation   \n",
       "\n",
       "                                             content  \n",
       "0                                                NaN  \n",
       "1  Greetings, and welcome to the Ark Restaurants ...  \n",
       "2  Thank you, operator. Good morning, and thank y...  \n",
       "3  Hi, everybody. If you read the release, we're ...  \n",
       "4                                                NaN  "
      ]
     },
     "execution_count": 72,
     "metadata": {},
     "output_type": "execute_result"
    }
   ],
   "source": [
    "# Need to refer to the original transcripts because the cleaned data does not include\n",
    "# stopwords. Improves readability for manually labeling the data.\n",
    "statements = pd.read_pickle('data/statements_mini')\n",
    "statements.head()"
   ]
  },
  {
   "cell_type": "code",
   "execution_count": 73,
   "metadata": {},
   "outputs": [
    {
     "data": {
      "text/html": [
       "<div>\n",
       "<style scoped>\n",
       "    .dataframe tbody tr th:only-of-type {\n",
       "        vertical-align: middle;\n",
       "    }\n",
       "\n",
       "    .dataframe tbody tr th {\n",
       "        vertical-align: top;\n",
       "    }\n",
       "\n",
       "    .dataframe thead th {\n",
       "        text-align: right;\n",
       "    }\n",
       "</style>\n",
       "<table border=\"1\" class=\"dataframe\">\n",
       "  <thead>\n",
       "    <tr style=\"text-align: right;\">\n",
       "      <th></th>\n",
       "      <th>num</th>\n",
       "      <th>file-company-name</th>\n",
       "      <th>file-exchange</th>\n",
       "      <th>file-symbol</th>\n",
       "      <th>file-published-on</th>\n",
       "      <th>file-title</th>\n",
       "      <th>company-name</th>\n",
       "      <th>quarter-year-event</th>\n",
       "      <th>symbol-exchange</th>\n",
       "      <th>symbol</th>\n",
       "      <th>datetime</th>\n",
       "      <th>order</th>\n",
       "      <th>name</th>\n",
       "      <th>content</th>\n",
       "    </tr>\n",
       "  </thead>\n",
       "  <tbody>\n",
       "    <tr>\n",
       "      <th>0</th>\n",
       "      <td>1</td>\n",
       "      <td>Ark Restaurants Corp.</td>\n",
       "      <td>NASDAQ</td>\n",
       "      <td>ARKR</td>\n",
       "      <td>2017-01-01 06:49:04</td>\n",
       "      <td>Ark Restaurants' (ARKR) CEO Michael Weinstein ...</td>\n",
       "      <td>Ark Restaurants Corp.</td>\n",
       "      <td>Q4 2016 Earnings Conference Call</td>\n",
       "      <td>NaN</td>\n",
       "      <td>ARKR</td>\n",
       "      <td>December 30, 2016 10:00 A.M. ET</td>\n",
       "      <td>1</td>\n",
       "      <td>Operator</td>\n",
       "      <td>[Operator Instructions] Our first question com...</td>\n",
       "    </tr>\n",
       "    <tr>\n",
       "      <th>1</th>\n",
       "      <td>1</td>\n",
       "      <td>Ark Restaurants Corp.</td>\n",
       "      <td>NASDAQ</td>\n",
       "      <td>ARKR</td>\n",
       "      <td>2017-01-01 06:49:04</td>\n",
       "      <td>Ark Restaurants' (ARKR) CEO Michael Weinstein ...</td>\n",
       "      <td>Ark Restaurants Corp.</td>\n",
       "      <td>Q4 2016 Earnings Conference Call</td>\n",
       "      <td>NaN</td>\n",
       "      <td>ARKR</td>\n",
       "      <td>December 30, 2016 10:00 A.M. ET</td>\n",
       "      <td>2</td>\n",
       "      <td>Bruce Geller</td>\n",
       "      <td>Hi Good morning guys.</td>\n",
       "    </tr>\n",
       "    <tr>\n",
       "      <th>2</th>\n",
       "      <td>1</td>\n",
       "      <td>Ark Restaurants Corp.</td>\n",
       "      <td>NASDAQ</td>\n",
       "      <td>ARKR</td>\n",
       "      <td>2017-01-01 06:49:04</td>\n",
       "      <td>Ark Restaurants' (ARKR) CEO Michael Weinstein ...</td>\n",
       "      <td>Ark Restaurants Corp.</td>\n",
       "      <td>Q4 2016 Earnings Conference Call</td>\n",
       "      <td>NaN</td>\n",
       "      <td>ARKR</td>\n",
       "      <td>December 30, 2016 10:00 A.M. ET</td>\n",
       "      <td>3</td>\n",
       "      <td>Bob Stewart</td>\n",
       "      <td>Hi Bruce, how are you?</td>\n",
       "    </tr>\n",
       "    <tr>\n",
       "      <th>3</th>\n",
       "      <td>1</td>\n",
       "      <td>Ark Restaurants Corp.</td>\n",
       "      <td>NASDAQ</td>\n",
       "      <td>ARKR</td>\n",
       "      <td>2017-01-01 06:49:04</td>\n",
       "      <td>Ark Restaurants' (ARKR) CEO Michael Weinstein ...</td>\n",
       "      <td>Ark Restaurants Corp.</td>\n",
       "      <td>Q4 2016 Earnings Conference Call</td>\n",
       "      <td>NaN</td>\n",
       "      <td>ARKR</td>\n",
       "      <td>December 30, 2016 10:00 A.M. ET</td>\n",
       "      <td>4</td>\n",
       "      <td>Bruce Geller</td>\n",
       "      <td>Good thanks. Glad to hear things have turned a...</td>\n",
       "    </tr>\n",
       "    <tr>\n",
       "      <th>4</th>\n",
       "      <td>1</td>\n",
       "      <td>Ark Restaurants Corp.</td>\n",
       "      <td>NASDAQ</td>\n",
       "      <td>ARKR</td>\n",
       "      <td>2017-01-01 06:49:04</td>\n",
       "      <td>Ark Restaurants' (ARKR) CEO Michael Weinstein ...</td>\n",
       "      <td>Ark Restaurants Corp.</td>\n",
       "      <td>Q4 2016 Earnings Conference Call</td>\n",
       "      <td>NaN</td>\n",
       "      <td>ARKR</td>\n",
       "      <td>December 30, 2016 10:00 A.M. ET</td>\n",
       "      <td>5</td>\n",
       "      <td>Bob Stewart</td>\n",
       "      <td>Yes, that includes an additional week last yea...</td>\n",
       "    </tr>\n",
       "  </tbody>\n",
       "</table>\n",
       "</div>"
      ],
      "text/plain": [
       "   num      file-company-name file-exchange file-symbol    file-published-on  \\\n",
       "0    1  Ark Restaurants Corp.        NASDAQ        ARKR  2017-01-01 06:49:04   \n",
       "1    1  Ark Restaurants Corp.        NASDAQ        ARKR  2017-01-01 06:49:04   \n",
       "2    1  Ark Restaurants Corp.        NASDAQ        ARKR  2017-01-01 06:49:04   \n",
       "3    1  Ark Restaurants Corp.        NASDAQ        ARKR  2017-01-01 06:49:04   \n",
       "4    1  Ark Restaurants Corp.        NASDAQ        ARKR  2017-01-01 06:49:04   \n",
       "\n",
       "                                          file-title           company-name  \\\n",
       "0  Ark Restaurants' (ARKR) CEO Michael Weinstein ...  Ark Restaurants Corp.   \n",
       "1  Ark Restaurants' (ARKR) CEO Michael Weinstein ...  Ark Restaurants Corp.   \n",
       "2  Ark Restaurants' (ARKR) CEO Michael Weinstein ...  Ark Restaurants Corp.   \n",
       "3  Ark Restaurants' (ARKR) CEO Michael Weinstein ...  Ark Restaurants Corp.   \n",
       "4  Ark Restaurants' (ARKR) CEO Michael Weinstein ...  Ark Restaurants Corp.   \n",
       "\n",
       "                 quarter-year-event symbol-exchange symbol  \\\n",
       "0  Q4 2016 Earnings Conference Call             NaN   ARKR   \n",
       "1  Q4 2016 Earnings Conference Call             NaN   ARKR   \n",
       "2  Q4 2016 Earnings Conference Call             NaN   ARKR   \n",
       "3  Q4 2016 Earnings Conference Call             NaN   ARKR   \n",
       "4  Q4 2016 Earnings Conference Call             NaN   ARKR   \n",
       "\n",
       "                          datetime  order          name  \\\n",
       "0  December 30, 2016 10:00 A.M. ET      1      Operator   \n",
       "1  December 30, 2016 10:00 A.M. ET      2  Bruce Geller   \n",
       "2  December 30, 2016 10:00 A.M. ET      3   Bob Stewart   \n",
       "3  December 30, 2016 10:00 A.M. ET      4  Bruce Geller   \n",
       "4  December 30, 2016 10:00 A.M. ET      5   Bob Stewart   \n",
       "\n",
       "                                             content  \n",
       "0  [Operator Instructions] Our first question com...  \n",
       "1                              Hi Good morning guys.  \n",
       "2                             Hi Bruce, how are you?  \n",
       "3  Good thanks. Glad to hear things have turned a...  \n",
       "4  Yes, that includes an additional week last yea...  "
      ]
     },
     "execution_count": 73,
     "metadata": {},
     "output_type": "execute_result"
    }
   ],
   "source": [
    "qna = pd.read_pickle('data/qna_mini')\n",
    "qna.head()"
   ]
  },
  {
   "cell_type": "code",
   "execution_count": 74,
   "metadata": {},
   "outputs": [],
   "source": [
    "with open('data/id_to_row.pickle', 'rb') as f:\n",
    "    id_to_row = pickle.load(f)"
   ]
  },
  {
   "cell_type": "code",
   "execution_count": 75,
   "metadata": {},
   "outputs": [],
   "source": [
    "# Start with 10 transcripts from the test set -> need to compile 50 questions\n",
    "examples = transcripts_test[len(transcripts_test)-10:len(transcripts_test)]"
   ]
  },
  {
   "cell_type": "code",
   "execution_count": 76,
   "metadata": {},
   "outputs": [],
   "source": [
    "def extract_full_transcript(cleaned_transcript):\n",
    "    transcript_id = cleaned_transcript[1]\n",
    "    statements_row, qna_row = id_to_row[transcript_id]\n",
    "    statement, counter, num = [], 0, statements.iloc[statements_row]['num']\n",
    "    while(True):\n",
    "        if statements.iloc[statements_row+counter]['num'] != num: break\n",
    "        statement.append(statements.iloc[statements_row+counter]['content'])\n",
    "        counter+=1\n",
    "    questions, counter, num = [], 0, qna.iloc[statements_row]['num']\n",
    "    while(True):\n",
    "        if qna.iloc[statements_row+counter]['num'] != num: break\n",
    "        questions.append(qna.iloc[qna_row+counter]['content'])\n",
    "        counter+=1\n",
    "    return statement, questions"
   ]
  },
  {
   "cell_type": "code",
   "execution_count": 131,
   "metadata": {},
   "outputs": [],
   "source": [
    "def create_qa_pairs(cleaned_transcript):\n",
    "    qa_pairs = []\n",
    "    QA, index = cleaned_transcript[3], 0\n",
    "    while(True):\n",
    "        while index < len(QA) and QA[index][1] == 1: index+=1\n",
    "        if index >= len(QA): break\n",
    "        question = QA[index][0]\n",
    "        while index < len(QA) and QA[index][1] == 0: \n",
    "            question += QA[index][0]\n",
    "            index+=1\n",
    "        if index >= len(QA): break\n",
    "        answer = QA[index][0]\n",
    "        while index < len(QA) and QA[index][1] == 1: \n",
    "            question += QA[index][0]\n",
    "            index+=1\n",
    "        qa_pairs.append((question, answer))\n",
    "    return qa_pairs"
   ]
  },
  {
   "cell_type": "code",
   "execution_count": 144,
   "metadata": {},
   "outputs": [
    {
     "name": "stdout",
     "output_type": "stream",
     "text": [
      "12\n"
     ]
    }
   ],
   "source": [
    "# In order to hand label examples, we will first read through the given transcript. \n",
    "# After reading through the given transcripts, we will examine each of the questions, and\n",
    "# determine which chunk of the transcript is most relevant to the question. \n",
    "# USE 2 (11), 3(19), 5(14), and 7(16)\n",
    "cleaned_transcript = examples[2]\n",
    "qa_pairs = create_qa_pairs(examples[2])\n",
    "readable_transcript = extract_full_transcript(examples[2])\n",
    "print(len(qa_pairs))"
   ]
  },
  {
   "cell_type": "code",
   "execution_count": 136,
   "metadata": {
    "scrolled": false
   },
   "outputs": [
    {
     "name": "stdout",
     "output_type": "stream",
     "text": [
      "[nan, \"Good morning. I'm Bill Robertson, Vice President of Finance for Visteon. Welcome to our Earnings Call for the Fourth Quarter and Full Year of 2016. Please note this call is being recorded and all lines have been placed on listen-only mode to prevent background noise.; ; Before we begin this morning's call, I would like to remind you this presentation contains forward-looking statements within the meaning of the Private Securities Litigation Reform Act of 1995. Forward-looking statements are not guarantees of future results and conditions or rather are subject to various factors, risks, and uncertainties that could cause our actual results to differ materially from those expressed in these statements. Please refer to the Slide entitled forward-looking information for further details.; ; Presentation materials for today's call were posted on the Investors Section of Visteon's website this morning. Please visit www.visteon.com/earnings to download the material if you've not already done so. Our Form 10-K was filed earlier this morning with the news release.; ; Joining us today are Sachin Lawande, President and Chief Executive Officer; and Christian Garcia, Executive Vice President and Chief Financial Officer. We have scheduled the call for one hour and will open the lines for your questions after Sachin and Christian's remarks. Please limit your questions to one question and one follow-up.; ; Thank you for joining us on our call today. Now I'll turn it over to Sachin.\", \"Thank you, Bill. On Page 2 let me briefly cover our consolidated fourth quarter 2016 results for our Electronics Product Group. The fourth quarter is traditionally one of our strongest quarters on a seasonally adjusted basis. I'm particularly pleased with our overall performance in the fourth quarter across several key metrics. We achieved sales of $803 million in the quarter, an increase of 4% versus the fourth quarter of 2015.; ; We delivered adjusted EBITDA of $98 million and our 12.2% adjusted EBITDA margin was 150 basis points improvement compared with the same quarter a year ago.; ; Adjusted free cash flow of $79 million was up 20% versus the fourth quarter of 2015. We won $1.3 billion in new business in the fourth quarter, with significant wins in key product areas which I will discuss in more depth later.; ; I'm very proud of the work of Visteon employees around the world to generate the strong results and help us finish the year on a high note. In the rest of the presentation, I will provide more details on our operations in the quarter.; ; Moving to Page 3. On this page, we highlight key accomplishments for the year. 2016 was the first full-year of execution of our strategy and I'm pleased with the progress the company has made in sales and business development, profitability, and in other key operational areas of the business. We delivered $3.1 billion in electronic sales, while launching 59 new products during the year, two-thirds of which were in China our largest market.; ; New business wins reached a record $5.4 billion, up 26% year-over-year. Visteon is now clearly seen as a strategic supplier by several of the leading auto manufacturers in the world. Our backlog of $16.5 billion at year-end is 11% higher than a year earlier.; ; With respect to profitability and cash flow, we achieved an Electronics adjusted EBITDA margin of 11.1% in 2016, an increase of 160 basis points over the prior year. I'm pleased to say that we increased our long-term adjusted EBITDA margin target from 12% to 14% while continuing to invest in future technologies and we generated positive adjusted free cash flow of $167 million during the year.; ; With a strong cash and liquidity position, we initiated new share repurchase authorization for $400 million. We also made substantial progress in improving the operational capability of the business in 2016.; ; We completed the development of our next-generation infotainment system platform which was launched at CES earlier this year and started the development of Autonomous Driving Technology and we continue to successfully recruit high caliber tech talent to lead these new initiatives.; ; And finally, we substantially completed our legacy restructuring actions allowing us to focus on driving growth in our core cockpit electronics business.; ; Turning to Page 4, as we have discussed from prior calls winning new business has been a priority for Visteon to drive revenue growth. During the fourth quarter of 2016, we continue to build on the strong momentum created during the year and won new business with expected lifetime revenue of approximately $1.3 billion. This brings our new business wins to $5.4 billion for 2016 that is about $1.1 billion higher than 2015, a 26% increase. Building on our market leadership in combiner head-up displays, our fourth quarter wins included our first windshield head-up display award.; ; The strategic win with a leading China domestic OEM is the first of what we expect will be many significant windshield head-up display awards in the months to come.; ; We also landed a significant infotainment win with a Chinese domestic automaker. This is our first infotainment system win in China in the commercial vehicle market and will boost our overall infotainment volumes within China.; ; Finally, we were awarded a major global instrument cluster award by North America-based OEM. We continue to perform very well in the instrument cluster segment based on the strength of our technology platforms in this space.; ; On Page 5, we show you our total awarded business backlog which stands at a record $16.5 billion at the end of 2016. Our awarded business backlog has increased by $1.6 billion or 11% versus year-end 2015 achieving our aggressive goal of double-digit growth for the year.; ; This order backlog which represents cumulative remaining life-of-program booked sales remains at a level more than five times greater than our 12-month sales, which underscores the health of our business and the attractiveness of our technology to the world's leading automakers.; ; We have successfully diversified our customer portfolio and a regional breakdown of the awarded business is very balanced and leaning towards regions that have faster growth profiles.; ; Our strength in instrument cluster technology is reflected in the business backlog and they're also winning in other core product areas such as displays, infotainment, and head-up displays.; ; As mentioned before that the growth of the backlog is a good leading indicator of the future growth in sales for the business.; ; I'm encouraged by ability to grow the backlog this year and thankful to our customers who have placed their trust and confidence in Visteon.; ; Moving to Page 6, on our second quarter call earlier this year, we said that we were expecting a rebound in our sales in China for the second half of the year. We subsequently reported strong China sales in the third quarter. I'm pleased to report that this trend continued in the fourth quarter as our China sales exceeded vehicle production volumes and we saw a double-digit sales increase compared with the same quarter a year earlier.; ; As shown on the left side of the page, in the fourth quarter, Visteon sales increased 43% year-over-year on a constant currency basis. This is against a backdrop of China passenger vehicle production volumes growing 17% in the same period.; ; For the full-year Visteon sales in China increased 26% on a constant currency basis. The faster than market growth is due to the new product launches and Visteon's customer mix which is growing more quickly than overall market.; ; Visteon's current sales in China are largely the joint venture and international OEMs. In the past few years domestic China OEMs such as GE have grown very rapidly and are now approximately 40% of the market.; ; In the past year, we made it a priority to expand the relationship with domestic channel OEMs while continuing to grow with the joint venture OEMs. We are pleased to report that we won $1.8 billion in new business in China in 2016, an increase of 84% over prior year, with a greater portion of this business coming from domestic China OEMs.; ; Moving to Page 7. On this page we show key financial metrics for the business over the past three years. We have been very focused and disciplined in our approach to the business and this focus on execution has resulted in significant improvement in profitability. When Visteon acquired JCIs Automotive Electronics Business in mid 2014 the new business pipeline of both Visteon and JCI was not strong due to the uncertainty about their future. Also the product and technology portfolio was not streamlined and has significant gaps.; ; This management team has successfully integrated JCIs business while delivering beyond the synergy case for the acquisition. We now have one of the strongest technology and product portfolio for cockpit electronics in the industry and have demonstrated that they can take more than our fair share of new business awards. And we have done this while reducing cost which has resulted in improved profitability even in a flat sales environment.; ; For 2016 we finished the year with engineering cost at 9.5% of sales the same as in prior year while supporting an increased number of customer programs and investing in new technologies such as infotainment and autonomous driving platforms.; ; Adjusted SG&A was reduced to 6.5% of sales as compared to 7% in the prior year.; ; We will continue to focus on cost and reduce fixed cost in the business to drive higher profitability, especially as we start to see the new business wins convert into revenue.; ; Now moving to Page 8, as I have said before, Visteon has the broadest product and technology portfolio for cockpit electronics in the industry. And in 2016 we further strengthened our position. We are pleased to report that ABI Research has named us as a Top Five supplier for connected car solutions, while IHS has named us as the number two supplier of instrument clusters and displays and number three supplier of head-up display solutions to the industry for 2016.; ; Cockpit Electronics is a dynamic industry that's evolving very quickly and I would like to briefly discuss the key trends that are driving this product segments.; ; Instrument clusters are transforming from hybrid, analog and small display clusters to all digital and reconfigurable clusters. In addition, to support new HMI requirements driven by emerging autonomous driving technologies, clusters are required to support travel monitoring, gaze tracking, and also 3D technology for the high-end.; ; Head-up displays are one of the fastest growing products with windshield head-up displays entering mass market vehicle segments. There is also an emerging need for augmented reality head-up displays to support new ADAS capabilities.; ; Cockpit domain controllers are starting to become more common across the industry as silicon and software suppliers emerge to support this capability. Besides instrument cluster and infotainment, new product domains such as ADAS are being added to the cockpit domain controller.; ; With center stack displays, the trend is to use larger displays that are more curved or even free form and with tactile touch feedback. And audio and infotainment are reaching an inflection point with the integration of smartphone metering technologies at the entry segment and mid and high infotainment systems becoming mobile app platforms.; ; Visteon is tracking this trends very closely and we demonstrated many of this new technologies at CES this January. With these new technologies, I'm confident that we will continue to strengthen our competitive position in the industry.; ; Moving to Page 9, on this page I would like to discuss the significance of cockpit HMI to autonomous driving. Many of the new capabilities in cockpit HMI that are emerging are based on the requirement to support the evolution towards autonomous driving. The last significant change to offer a cockpit electronic HMI was driven by the introduction of infotainment technology in the cockpit. This required the industry to move beyond hard buttons and knobs and to touch screens and haptic controllers. The evolution of infotainment from turn by turn to full map and the transition to digital media has driven much of the evolution we have seen in the cockpit electronics HMI such as center stack displays with touch capability, digital instrument clusters, and head-up displays.; ; Visteon has done well in this phase of cockpit electronics HMI as discussed in the previous slides.; ; Now there is another transformation of the cockpit electronics underway driven by the requirements for autonomous driving to manage the transition of vehicle control between the driver and the vehicle especially for Level 3 and higher automation. We expect Level 3 self driving car functions like highway auto pilot and self parking will be on the market by 2020 from several OEMs.; ; By this timeframe, we expect augmented reality head-up displays, 3D instrument clusters, and eye-gaze tracking to enable the driver to relinquish control of their vehicle in certain conditions and be alerted as necessary to take back control of the vehicle. We see a lot of alignment between the evolution of autonomous driving technologies and the new HMI capabilities. And as I already mentioned, Visteon is developing this cockpit HMI features as part of the technology roadmap for our core products.; ; And as the industry moves towards autonomous driving this features will become increasingly important in winning future business.; ; Moving to Page 10, on this page we show our roadmap for significant new technology development at Visteon that extends our product portfolio. This is an area where we have made major progress in 2016 in our ability to define staff and execute new technology development initiatives. I would like to note that enhancements to existing products such as instrument clusters and head-up displays are considered as instrumental innovations for the purpose of this discussion.; ; I'm very pleased to report that we launched a new infotainment system platform called Phoenix at CES in Las Vegas in early January. This technology enables Visteon to offer mid and high infotainment in addition to entry infotainment and puts us in the shortlist of only a handful of Tier 1 suppliers that have this capability.; ; Phoenix infotainment platform uses the latest innovations and software for delivering the first app environment for embedded infotainment that's highly cyber secured and also fully upgradable over the air. The response from customers at CES for Phoenix was very promising and they are actively following up for multiple opportunities at this time.; ; Overall, CES was a very successful event for Visteon with over 45 OEMs from all over the world visiting our booth. Many of the upcoming HMI technologies that I mentioned earlier were demonstrated at this event.; ; In 2016, we also ramped up our autonomous driving technology platform development which will focus on the development of fault tolerant hardware and software to enable centralized processing or sensor information using algorithms based on deep machine learning capability.; ; This extends our product portfolio from cockpit HMI and into the very heart of the vehicle driving experience of the future.; ; We have successfully recruited top notch talent from different companies in the industry to lead this initiative and early engagements with OEMs have been very encouraging. We expect to launch this new technology platform at the next CES in 2018.; ; These new technology initiatives will strengthen Visteon's position and cockpit HMI while extending our capability in the most exciting and transformative area of automotive electronics which is the autonomous driving technology.; ; Moving to Page 11, on this page and the next, I would like to focus on the business environment we are facing in 2017 and the key priorities for Visteon.; ; First, we are expecting a modest improvement in global production volume for 2017 versus 2016. IHS is expecting global production volumes to grow 1.9% in 2017 with China and Europe showing positive growth while North America is forecast to reduce by 1.5%.; ; Moreover the Top 10 Visteon customers are forecast to grow less than 1% when weighted on sales. A bright spot for Visteon will be China where our sales will continue to grow at double-digit rate based on new product launches in 2016 and in 2017. Furthermore, we expect to benefit globally from cockpit electronics sourcing decisions at OEMs driven by trends we have discussed earlier such as the transition of instrument clusters to all digital, consolidation of ECUs into domain controller, and upgrade of infotainment to next-generation solutions.; ; We expect 2017 to be similar to 2016 in terms of the macro business environment and we are confident that our product and technology portfolio coupled with a relentless focus on execution will continue to drive success in 2017 as well.; ; Moving to Page 12, here we outline the strategic priorities for Visteon for 2017 that will set the stage for us to achieve our longer term plans. The first priority is to continue to improve our core business by growing sales and improving margins to 11.5%, up from 11.1% for 2016, despite minimum help from the top-line. We also aim to drive new business wins to be on track to achieve a combined $12 billion target for 2017 and 2018.; ; The next priority is to accelerate our China business by growing sales as well as new business wins. This involves leveraging our new products such as SmartCore and Phoenix infotainment solutions as well as the excellent relationships and joint ventures that we have in the world's largest automotive market.; ; Third, we will continue to develop new technologies as I've mentioned earlier. We intend to launch by early 2018 a new autonomous driving platform that's targeting Level 3 plus capabilities. Our strategy yielded strong results in 2016 and over the last three years, our total shareholder return of 68% has significantly outperformed the S&P 500 and our peer group. I'm confident that we are on track for another successful year in 2017.; ; That concludes my overview comments and now Christian will walk you through our financial results for the fourth quarter and for full-year for 2016.\", \"Thanks, Sachin, and good morning everyone. Let me provide the company's key financial results for the fourth quarter and full-year 2016 for our Electronics Product Group which are shown in Page 14. As explained on prior calls, our financial results are impacted by a number of items that make year-over-year comparisons difficult. The adjusted financial information presented on this slide excludes this items and represents how we manage the business internally. These are non-GAAP financial measures that are reconciled to U.S. GAAP financials in the attached Appendix that starts on Page 21.; ; Also we have reclassified the majority of our climate and interiors businesses as discontinued operations in our financial statements. As a result, our income statement has been adjusted to exclude the portions of climate and interior specific income expenses that are now reflected as discontinued operations. The financials on this page reflect our ongoing Electronics Product Group and exclude discontinued and other operations.; ; Electronic sales of $803 million in the fourth quarter increased by 4% compared to prior year. This is the highest quarterly growth rate we experienced in the year. In the quarter, we saw a double-digit growth in Asia driven by new product launches in the region, particularly in China. As Sachin mentioned, we believe that the momentum that we have seen in China in 2016 will continue into 2017.; ; Adjusted EBITDA for Electronics was $98 million, representing an 18% increase over fourth quarter 2015. The year-over-year increase largely reflects higher volumes and favorable currency related to balance sheet evaluation. Adjusted free cash flow for Electronics was positive $79 million in the quarter versus $66 million in the fourth quarter of 2015. The increase is primarily explained by increased adjusted EBITDA. I will cover each of these metrics in more detail on the following pages.; ; On Page 15, we highlight Electronics sales, adjusted EBITDA, and adjusted EBITDA margins for fourth quarter and full-year 2016 versus the same periods last year. Electronics sales for the fourth quarter 2016 were $803 million and adjusted EBITDA was $98 million. Both are quarterly records for this segment and evidence of the progress we have made in our journey to transform the company.; ; Sales increased by $28 million versus 2015 as the benefit of new business wins was offset by customary pricing arrangements with customers.; ; Adjusted EBITDA increased $15 million in the fourth quarter versus 2015. The increase reflected the impact of new business and favorable currency related to balance sheet evaluation. The currency impact was driven primarily by movement in the Japanese Yen and Euro during the quarter. Our business equation for the quarter was neutral as material and manufacturing cost savings were offset by contractual pricing arrangements with our customers and increased warranty costs. For the year, the business equation improved adjusted EBITDA by approximately by $25 million.; ; Electronics adjusted SG&A for the year was $203 million or 6.5% of Electronics sales down from 7.0% of sales in 2015. We will continue to focus on achieving SG&A reductions in 2017.; ; Adjusted EBITDA margin was 12.2% in the quarter and we ended the year with an adjusted EBITDA margin of over 11% which is a new milestone for the company. This represents an improvement of 160 basis points compared to 2015.; ; Page 16 provides our cash flow. Total adjusted free cash flow was positive $82 million in the fourth quarter compared to $62 million in the fourth quarter of last year. On this page, we have separated the Electronics cash flows from the cash flows related to other and discontinued operations. Our core Electronics adjusted free cash flow was positive $79 million in the quarter compared to $66 million in the fourth quarter of last year representing a growth of 20%. The year-over-year increase in adjusted free cash flow reflects increased adjusted EBITDA, improved freight working capital, and lower capital expenditures.; ; We have restructuring and other payments of $19 million in the quarter. We are currently executing on the restructuring program which we anticipate to complete towards the second half of 2017. We estimate that we will have additional cash outflows associated with this program of approximately $40 million in this coming year.; ; Cash and short-term investments at the end of the year were $882 million and debt was $382 million. We continue to have a very strong capital structure with a net cash position and debt-to-EBITDA of 1.1 times.; ; On Page 17, we are pleased to announce that our legacy related actions are largely completed allowing us to focus on our core cockpit electronics business. Activities related to the former climate product group are shown in the left. As you know, we divested our 70% stake in the former Halla Visteon Climate Control business in the second quarter of 2015. Since then, we have taken additional actions related to the remaining pieces of the climate business, including selling our South Africa operations and closing our South America operations in the fourth quarter of 2016.; ; We are finalizing the repurchase of the electronics portion of the business in India that was initially included in the climate divestiture and anticipate completion in the first half of 2017. Similarly we divested the majority of our interiors business in the fourth quarter of 2014. Since then we sold our South America interiors operations in the fourth quarter of 2016. What remains is a $30 million Europe payment related to the sale of the Berlin interiors facility in 2015 representing the funds that were held back at the time of sale. We expect to make this payment in the first half of this coming year. We expect to have no more payments related to the legacy businesses after the first half of 2017.; ; Moving to Page 18, the company has had a long history of being committed to capital returns, returning $3.5 billion in the last five years. In 2016, we have distributed over $2.2 billion in a combination of share buybacks and special dividends.; ; As we announced last month, our board has authorized a new $400 million buyback program which we anticipate to be completed through March of 2018. This underscores the confidence we have in our long-term growth prospects and shows our commitment to delivering value to our shareholders. We intend to execute the repurchase of our shares through a combination of open market and accelerated stock repurchase programs. Shareholder distributions will continue to be part of our capital allocation approach going forward and that the company continues to generate cash we expect that there will be more opportunities to further return capital to our investors.; ; Turning to Page 19, we are reaffirming our full-year 2017 financial guidance for sales, adjusted EBITDA, and adjusted free cash flow. For the full-year, we are projecting sales of $3.1 billion to $3.2 billion, adjusted EBITDA of $355 million to $370 million, and adjusted free cash flow of $165 million to $180 million. We do not expect to have any sales or adjusted EBITDA related to our other product group or discontinued operations in 2017.; ; As you can see from our guidance we are targeting an increase in adjusted EBITDA for the Electronics Product group in 2017 despite minimal sales growth. We anticipate that the improvement in profitability would be backend loaded as the first half of 2016 benefited from one-time adjustments for warranty expense and more favorable currency levels. Additionally, we would see more savings impact from our restructuring program and supplier negotiations in the second half of 2017.; ; We are also targeting growth in our new business wins in the coming year and we expect that quarterly sourcing activity would follow historical patterns. Typically we see increased levels of sourcing activity in the second and fourth quarters compared to the first and third quarters of a given year.; ; Now let me turn it back to Sachin for some closing thoughts.\", \"Thanks, Christian. Moving to Page 20, in closing we are very pleased with Visteon's performance in 2016 and that the value we delivered for our customers and shareholders. 2016 was the year in which we set the foundation for a much stronger Visteon, a technology focused company poised to capitalize on emerging cockpit electronics trends. I'm very proud of the work that everyone at Visteon has done to put us in the strong position.; ; As we said at the Deutsche Bank Conference, in early January, we project our sales to grow to $4.7 billion in 2021 driven by current all-time high business backlog and expected new business wins this year and in 2018. Furthermore we increased our long-term adjusted EBITDA margin objective to 14%. In short, we are excited and optimistic about our future.; ; Thank you for joining us today. Now I would like to open up the call for any questions.\"]\n"
     ]
    }
   ],
   "source": [
    "print(readable_transcript[0])"
   ]
  },
  {
   "cell_type": "code",
   "execution_count": 146,
   "metadata": {
    "scrolled": false
   },
   "outputs": [
    {
     "name": "stdout",
     "output_type": "stream",
     "text": [
      "['[Operator Instructions].; ; Your first question comes from the line of David Leiker with Baird. Please go ahead.', 'Hi good morning, this is Joe Vruwink for David.', 'Good morning, Joe.', \"I wanted to talk about new business awards, if I just look at the quarterly cadence of what you have been winning, when you have been winning it seems that Q2 of last year suddenly something happens where Visteon is booking at a much higher level than it had been and subsequent quarters you continue to book at this elevated level. Now I don't know if it's easy to say CES 2016 was a very important event, a lot of good stuff shown, you've talked about meeting with more automakers and so I can tie up back into that. But the reason I ask is CES 2017, so what you did last month seemed to be an even bigger and better event, you certainly had a lot of new products, Phoenix's going to be meaningful and so is that event the driver where we can expect another stair step in new business awards may be next quarter, the quarter thereafter and sustain that higher level?\", \"Sure. So Joe the first thing I would say is with respect to new business wins, these tend to be lumpy and what we have seen historically is the second quarter is around then many of the OEMs finalize their sourcing decisions and it also happens to be the case this year that we see many of the decisions also likely coming into the fourth quarter. So that kind of explains just the lumpiness of this, the wins.; ; On the question regarding CES, CES is obviously a strong boost in terms of improving our visibility. What -- the main reason why I feel that we will continue to have a strong performance with new business wins are the trends that I talked about earlier. So HMI, cockpit HMI is going through a transformation that we haven't seen in the last little while and we are seeing a lot of new awards that are coming up and we think that on account of the product portfolio and the technologies that we have, the excellent showing at CES that we will be a in a very good position to continue our track record and grow the new business trends that we have outlined. We mentioned earlier at the Deutsche Bank conference that we have a target that we have to achieve over the next couple of years and I feel confident that we will be on track to achieve the goal.\", \"Okay, that's helpful. Thank you. And then last question for me, in moving the profitability target up to 14% margins from 12% at the same time you are guiding to a higher cash restructuring outlays this year where that have been an item that was on the decline. So I'm just wondering can I tie that into may be Visteon, I don't know if uncovering is the right word but finding more opportunities in the manufacturing systems to take cost out and that's going to be the savings that are behind the 200 basis points that are long-term targets.\", \"First of all I would say we are looking at driving our efficiency in all aspects of our business. Cost, focus on cost is a very big thing and we have demonstrated that we can take cost out while taking on more programs and winning more business and by the way also executing a record number of new product launches. So this will continue as we have said before this transformation we are just about I would say halfway through this transformation that is still lot more that we see as opportunity that we will go after.; ; And one thing I would like to add is in addition to being more efficient and taking cost out as well as doing some footprint optimization activities, we are also developing all of our technologies as platform technologies. There is a big difference in terms of the cost when you go and develop a solution custom for a customer versus applying a platform across multiple OEMs. This is a transition that we've started already when I first started here towards the second half of 2015 and we will continue to apply this approach which will result in our engineering cost which is a biggest cost here in the company becoming more efficient and that will contribute in a large way to the improvements that we see that will result in the higher profitability.; ; The other thing we've said is also that we expect benefits of scale to factor in. We have I think done very well within the flat environment to drive profitability higher but as the new business wins start to convert into revenue we expect to see the effect of scale also to kick in. Christian, would you like to add anything to this?\", 'No. So Joe to summarize what Sachin has said, cost efficiencies, platform based -- move to platform based and third is leverage across a larger revenue base. Those are the three items and the restructuring program that we are instituting or implementing currently is just part of that journey.', 'Your next question comes from the line of Tavis McCourt with Raymond James. Please go ahead.', \"Hey thanks for taking my question, a couple. First on the China business, so if you look at 2016 ex-foreign currency changes it was up 43%, I don't have the kind of China production numbers top of my head, but obviously that's well above overall domestic production. And so I'm trying to get a sense of how sustainable is that level of growth in China above and beyond China production levels. And then if you could help us understand how much of your China business runs through the consolidated JVs versus those that run through wholly-owned subsidiaries? And then second one more of a strategic question, Sachin, on the autonomous products or platforms you expect to be announcing next year. Can you help us understand why you are not late to this market? So from kind of our perspective number of Tier 1 suppliers and Tier 2 suppliers and players from outside the auto industry and most OEMs had several announcements on autonomous projects, why is this not a way to succeed?\", 'Certainly Tavis let me have Christian answer the first part of the question.', 'Before I turn it over to Sachin talk about China, I just wanted to correct what something you said the 43% is Q4 okay and that compares to the production volumes of about 16%. So on a year-on-year basis full-year we went up by 26% and that is compared to 14% production volumes, okay. So the question that you had is whether or not this is --', \"And those are the main drivers of our performance in China were the new product launches. We started to see first effects of the new product launches in Q3 of last year and that impact continued into Q4 and we expect to see that continue into 2017. In addition, we also have a very healthy level of new product launches planned for China in 2017. So the combination of the product launches last year and this year we expect that to drive our performance in China to a similar level in 2017 as well.; ; Now turning to the second part of the question why do we believe we are not late to the autonomous driving opportunities. What I would like to say here Tavis is that, there is a big shift in terms of underlying technologies that are required to implement Level 3 and higher automation as compared to Level 1 and 2. Level 1 and 2 what you would term as ADAS can be implemented with conventional technologies. Conventional by that I mean normal programming and software approaches for image recognition and detection and classification that are the sort of the underlying technologies that drive those applications.; ; As we go into the autonomous driving world the level of accuracy that can be achieved with conventional technologies are not sufficient to be able to handle all the very different and wearing conditions that you would expect on the roads for autonomous driving. To be able to achieve that you have to get into a couple of different areas that are extremely new, very new to the industry as a whole.; ; One is the general topic of sensor aggregation and sensor fusion. So you cannot do Level 3 plus autonomous solutions with a very distributed approach where the sensor data is processed at or near the sensor itself. The data has to be aggregated into a compute module and has to be fused together so that's one challenge. The second challenge is that then you have to apply machine learning to be able to continuously improve the capabilities. Both capabilities for the industry are very new and when you hear about different companies talking about their approaches most of them are still largely based on conventional approaches. So the approach that we have taken however is to tackle the hard problems of building a fault tolerant hardware that's going to fuse all the sensor data in a central place and then offer a capability on API for machine learning software to run on top of it.; ; This approach we have tested with many OEMs through advanced discussions on this approaches and the response that we have been getting is highly encouraging to say the least. So we believe that the industry is still at very early stages of developing the technologies for the future of autonomous driving. We are not at all late to the party here. In fact if anything I think our approach is probably ahead of the approaches that are taken by many of the current ADAS players and I believe at the end of the day all of them will also need to evolve their solutions and move up the technology curve to be able to tackle the challenges that I just described. So hopefully that gives you a sense of what we are doing that's different from what our competitors are.\", \"Yes, that's helpful and then final question I guess more of a clarification so obviously 2016 turned out to be a great year for new business wins and you mentioned $12 billion is the goal for 2017 and 2018 is that just from kind of your legacy business or that include business wins from the new businesses as well?\", 'It is primarily from current core products and we have indicated that we expect only a fairly small share may be 10% of that to come from the new products that we are launching or will launch here very soon such as Phoenix Infotainment.', 'Your next question comes from the line of Ryan Brinkman with J.P. Morgan. Please go ahead.', \"I think it seems clear to me that there is increased interest in Visteon in the public markets following the HARMAN's agreement to be purchased by Samsung right, because you guys are now a public share play in terms of automotive electronics infotainment which investors have identified as a strong growth area. I think you could see evidence of this in the amount of investors that crowded into you tent at CES this year relative to your past and arguably you can see them a share price too. So my question is would it be reasonable to assume also that there is increased interest in Visteon in the private market, is a consumer electronics or software technology company thought that they needed to gain entry into automotive electronics. Would an acquisition of Visteon give good way for them to go about gaining that interest and then conversely are there technologies or company that you are potentially looking to acquire, how would you raise your appetite for M&A generally?\", \"Yes, well both are good questions but frankly Ryan what I would like to do here is not to focus on hypotheticals. The short answer to your first question is who knows right and we here are really focused on driving hard on the opportunities that we see which as you can see from this earlier discussion are just tremendous. There is a lot to be done; we are roughly half way through our transformation. We see tremendous further value creation opportunities and for that we need to remain extremely focused. So the thing that we are trying to drive within Visteon here is a culture of a focus and execution sticking to our strategy and then really delivering above our customers' expectations.; ; With respect to appetite that we may have for certain technologies or capabilities that we should acquire, we are definitely looking at those options and at the same time I would say that we have a very disciplined approach in terms of not overpaying or paying beyond what we see as fair value for those assets. So we have demonstrated that we can implement and build technologies organically on our own and unless there is a compelling reason why a position would help such as perhaps pull in the time to revenue unless we find really good options we would stick to our current strategy. But we are continuously looking, we are very interested in talking to companies and finding out what's out there that might benefit our strategy.\", 'Right. So Ryan if I can add to that, the criteria that we use in selecting candidates are up clearly fit, the returns that we could generate from M&A activity, and the third is time to value extraction, if it takes a long time then we would drive to build it ourselves.', \"I see that's very helpful, thanks. And then just may be a more conventional question, of the strong sort of EBITDA margin expansion that you see over the next several years, I mean it's been driven I think in large part by this SG&A leverage even lower dollars in some periods year-over-year. As you start to invest more in Phoenix et cetera and then that result in strong organic revenue growth. Subsequent to that, should we start to think about more gross margin leverage are contributing to the operating margin expansion rather than leverage of fixed operating expense?\", \"Right. So there are really two stories. One is the outer years where we're actually going to see the benefit of the backlog that we have created here. But in the coming years in 2017, there is no question we would challenge. If you think about what Sachin has mentioned earlier we are going to see EBITDA growth through cost efficiencies platform based and also the leverage towards a larger scale. We would wait for the larger scale in 2019 and beyond. The platform based we are still continuing that transformation and so in the very near future it's all about cost efficiencies right especially in 2017 where we get very little help from the top-line.\", 'Your next question comes from the line of David Lim with Wells Fargo. Please go ahead.', 'Hi good morning congratulations. Just two questions. There has been lot of talk about border tax and I was wondering if you guys could give us a little bit more color on how would that impact you. I know right now more theoretical and hypothetical but other suppliers have sort of -- gave a little bit of framework and we are wondering if you could do the same there and then after that I have one other follow-up?', \"Sure. Hi, David. Well the short answer is that we can't really provide you with too much in terms of specifics with respect to all of these changes that are being discussed by this administration. Having said that we continue to analyze any potential changes and how that might impact our business and there are quite a few. There is talk about so-called border tax adjustments, there is NAFTA, and sometimes I think people use them interchangeably which is probably not accurate. So until there is more specific information that's available to us that we can then correlate to the impact of the business, I think it's too premature to talk about it. But let me at this point turn this over to Christian to see if you would like to add any more color to it.\", \"Right. What I would like to add to Sachin's comments is really NAFTA, I should not David, is a trade agreement between Canada, U.S. and Mexico that specifies the duties and tariffs apply to the trade within those countries. Ultimately the way we think about this any replication of NAFTA will have to go back to the guidelines of the World Trade Organization and obviously that's the body that governs trade among its member countries and United States is part of that. So that's NAFTA.; ; The other one is border tax adjustment and that's why we like to bifurcate the two because the border tax or border tax adjustment on the other hand is a component of Congress's effort towards corporate tax reform. They will say proposal from Congress as you know what they call the House Blueprint. And the Blueprint has many elements actually there are many elements that are actually positive for business. They actually reduce the statutory tax rate from 35% to 20%. It has a deemed tax for repatriation that incentivizes companies to bring back taxes, bring back cash to the U.S. certain exclusions and eliminations and the border tax which eliminates the deductibility of cost imports for tax purposes.; ; So all this I have said let me supersede it by the administration's own proposal for on tax reforms. So as Sachin mentioned it's too early to say that whether or not there is going to be a revision to NAFTA or there is going to be a passage of our bill that reform our tax, corporate tax code or both. And many economists are also theorizing that there need to be adjustment to exchange rates that would mitigate any additional cost associated with any sort of change. So given all this it is quite impossible to ascertain the implications for the company but as you can say, as you can see we are monitoring this very closely.\", 'Got it, thank you. And my follow-up is on the infotainment Phoenix platform seems very impressive. Sachin any kind of idea or indication of how early you can announce a win and just some color on if you could provide some additional color on the receptivity of Phoenix so far since the CES launch? Thank you.', 'Sure. So at CES I think you or David we had an excellent deception of this new technology by all of the customers. And what I was really pleased with was that we were able to follow-up with all of those opportunities that CES opened up within about four to five weeks. So we had detailed discussions with engineering teams at OEMs all over the world and we are in further discussions and follow-ups that such a engagement typically entails.; ; Infotainment tends to be a fairly large decision for any OEM. They have their existing set of suppliers. As I mentioned in my comments when it comes to mid and high infotainment, the list of competitors is actually pretty small. And I think with the changes and some of this sort of the landscape shifting that has occurred it creates opportunities for us beyond what just the technology and the newness of it and the capabilities would lead one to think.; ; So my expectation is that we will start to see more in the second half because it takes a fair amount of time for these opportunities to convert from discussions into decisions and so I would stay tuned second half of this will probably be when we will be talking about Phoenix in terms of wins.', 'Your final question comes from the line of Brian Sponheimer with Gabelli. Please go ahead.', 'Just a couple of quick ones as most have been answered. Christian if you could just talk about the balance sheet adjustments that drove the $10 million year-over-year EBITDA growth and how much that repeats currency levels in 2017?', \"Yes. So as I mentioned $10 million actually was impactful for Q4 and it's a one-time -- it's a balance sheet evaluation for the Yen and Euro, mostly on the Yen, and I'm not going to speculate on what the currencies are, but given the fact that it's that large we would expect that to be to one-time benefit in the quarter.\", \"Okay. And then on the $400 million buyback you said a mix of open market purchases and ASR, any idea as to what that balance would be and potential thoughts on timing on when you'd like to get going on it?\", \"Yes. We're not going to provide details on that in this call. But what I'd just say that we're currently in a blackout period and we will execute sometime after -- after we get out of blackout.\", \"Thank you. I'd like to turn the call back over to Sachin for any closing remarks.\", \"Okay. So thank you and with that what I would like to do here is to thank everyone for participating in today's call and for your ongoing interest in Visteon. At this point, we will end the call. Thank you.\", '[Operator instructions]; ; Our first question comes from the line of Kunal Madhukar with SunTrust. Your line is open, please go ahead.', 'Hi, thanks for taking the question. As you look at the purchase mortgage space, how much more room do you think you have in terms of improving monetization as organic volumes for lenders grow?', 'So it’s a really good question. First off, purchase - there’s a lot of room for purchase to grow, and then I’ll talk about monetization. We’re not going to give you necessarily specific numbers, but we’ll give you some anecdotals. While we have a little over 2% share in the overall refinance market of originations, our share for purchase is substantially lower than that, so there is a ton of headwind to grow in purchase. A lot of the consumer experience initiatives behind that are what we’re really excited about. Those initiatives all relate to your second question, which was monetization, and I’d point you to our investor deck which shows you the leverage of changes in our funnel. So long story short, there’s a ton of room for upside in monetization of purchase, and the reason is because we will get lender close rates to continue to move up, which will then get them to continue to increase their bids.; ; In addition to that, if you just look, and these are hypothetical numbers but they’re not far off, if you can match 50% of your borrowers with at least one lender and you just make that 60%, or 60% to 70%, but 50 to 60 is a 20% increase in monetization just there. If you can move from three lenders to an average of four, you pick up an additional one-third of monetization. If you move close rates from 2% to 4%, you’re not going to quite double monetization but you’ll probably get it up there by 50% to 70%, so suffice to say there’s a ton of room to move monetization as we continue to work with lenders.; ; And by the way, in addition to our initiatives, a lot of that happens naturally because lenders who previously didn’t focus as much on purchase, now they’ve put a big focus on it, and they’ve cleaned up their internal processes too.', 'Thank you so much, Doug.', 'Thank you. Our next question comes from the line of Mark Mahaney with RBC Capital Markets. Your line is open, please go ahead.', 'Hi guys, this Jim Shaughnessy stepping in for Mark this morning. Thanks for taking my question. Just on mortgage, I think at the analyst day you mentioned that mortgage was likely a low to mid single digit grow over ’17. I’m just wondering, given the comments about January trends, January purchase trends year-to-date, is that still the expectation or do you think is it incrementally more positive based on those trends? Thanks.', 'Yes, I think it’s a great question. We’ve certainly seen a lot of momentum moving into the year, particularly on the purchase side, so we say kind of mid single digits, maybe mid to upper single digits. We are marginally more bullish on mortgage than we’ve been, and we think purchase has a lot of room to grow and a lot of legs.', 'Great, thank you. I have one more follow-up. It looks like personal loans might have been down a few million sequentially in the quarter. Is there anything else to call out here besides seasonality that we should be aware of?', 'Absolutely not. Seasonality is pretty much it. We had forecast it, told everybody it was coming, and it’s come out of the gates stronger in Q1 as well. Gabe, anything to add?', 'Yes, I’ll point to the personal loans business where, number one, we achieved record volume in Q4, which is a testament to our marketing, and we’ve kind of mentioned the fact that we might be seeing a little weakness in [indiscernible] issues and integration issues with an acquisition of one lender by another. But as we move into Q1, we’re looking at pretty--you know, for the first time in a while, increases in revenue per lead and a lot of lender demand. We also added a substantial lender in late Q4 that we’ll be getting the benefit of as we move into Q1. So that industry and that segment feels pretty good for us right now, and I think we have some tremendous opportunity for volume as well as finally some [indiscernible] increases as we go forward.', 'Got it, thanks guys.', 'Thank you. Our next question comes from the line of Kerry Rice with Needham. Your line is open, please go ahead.', 'Thanks a lot. Maybe first on mortgage, as you had just highlighted Gabe, that you’re now maybe mid to higher single digits for mortgage revenue growth in 2017. Can you talk a little bit about seasonality in Q1? Does that generally accelerate in Q1, and maybe is it different this year because it’s more purchases than refis? Then maybe a similar question on the non-mortgage - clearly credit cards is doing well, home equity is doing well, but do you look at that growth trajectory as an acceleration in Q1 in the non-mortgage business, or any kind of guidance as we think about non-mortgage growth for 2017? Thank you.', 'So let me take the first part [indiscernible] numbers. So [indiscernible] business, we always see Q4 seasonally weaker, which is why we projected what we projected, and I know when we did that, some people didn’t understand what was behind it. But Q4 [indiscernible] people are buying stuff, not financing stuff. In Q1, people typically finance stuff at a greater rate, so you typically do see some stronger Q1, and we’ve got [indiscernible] guidance here as well.; ; Now that said, we’re still seeing growth really across the board, I’ll probably get corrected here but sequentially I don’t think we have any products--I think almost all of our products [indiscernible] are up sequentially, and I believe go up year-over-year. So with growth everywhere, it’s happening through monetization, it’s happening through demand, it’s just happening through all of the things that we’ve said. We definitely see Q1 a little bit stronger than you do Q4.; ; Now in addition to that, from what we’ve said, [indiscernible] mortgage [indiscernible] mid single digits to higher single digits, that not only is telling you that we have a lot of confidence in our ability to execute our plan, which I was obviously more confident than in December, but we also have confidence that we can now be even a little better on mortgage. Now, that doesn’t mean it’s going to be better in everything, but it gives us much more confidence about the overall year.', 'Thank you. Our next question comes from the line of Mike Grondahl with Northland Securities. Your line is open, please go ahead.', 'Hey guys, congratulations on the quarter. Sort of two quick questions - one, could you talk a little bit about what’s embedded for mortgage activity and credit card activity in 1Q; and then maybe secondly, could you talk a little bit about trends that you’re seeing at some of your larger mortgage customers, kind of where their demand is and what they’re thinking?', 'So the first one, can you just clarify what you mean by embedded?', 'Well, you have revenue guidance of 122 to 126. If you somewhat broke out mortgage and credit cards sequentially, how are they doing compared to 4Q?', \"So I’m going to let Gabe take the embedded one, and let me talk about the customers first. On the notion of the individual products, we don’t necessarily release very strict revenue on product-by-product. We do mortgage and non-mortgage, as you’ll see in our Q’s, because we consider that competitive. Now, the keys in our big mortgage customers, let me tell you what’s happening. They are expanding demand in every way you could think of, so they’re increasing their demand for purchase, they're also increasing their demand for refi. Now, keep in mind the increase in demand encompasses a number of things. It encompasses the number of customers they want, it encompasses how wide they’re willing to go, so for example they move their minimum loan amounts from, let’s say, $200,000 down to $100,000 and that creates that funnel effect. We add more lenders, which means we get more transmits per, and those lenders focus more on close rates, which does that.; ; In addition, you have just the secular trend of moving from offline to online [indiscernible] investor deck, and that’s continuing to happen. As lenders increasingly want to lend, if you think about it, how do you drive volume? You can--as we’ve said since the very beginning, any individual lender trying to drive their own individual volume will be less efficient than LendingTree, and we can drive the entire market and then those lenders carve it up and slice it the way they want. So that’s what we’re--and that’s happening with our big customers as our smaller. Now, it’s definitely more accentuated with our big customers, and by the way, I’ll just take one more second to make this point. I just was looking yesterday at our top 10 lenders across the board, and you cannot believe how our top 10 spenders have moved from, call it smaller correspondent lenders five or six years ago into now the major money center banks and major credit card issuers and the major personal loan lenders. It’s a beautiful thing to see that transition happening.; ; Gabe, you want to talk about the numbers?\", 'Yes, so we already mentioned mortgage, mid to upper single digits. As you look at credit cards, obviously higher growth rate in credit cards. We’re seeing great momentum in the combined credit cards business, and that encompasses our own LendingTree branded efforts where we’re seeing really nice growth, as well as CompareCards - they’re seeing really nice sequential and year-over-year growth. So we’re very happy with how the credit card business is performing.', 'Got it, thank you.', 'Thank you. Our next question comes from the line of John Campbell with Stephens. Your line is open, please go ahead.', 'Hey guys, congrats on a great quarter and a good start to the year. You guys mentioned that--I think the total loan requests were up 57% year-over-year and that’s against total rev up 29%, so just want to dig in on that growth rate differential. Was that less matches or lower rev per match, or maybe just a combination of the two?', 'It’s really a mix shift issue, so if you look at aggregate loan requests, personal loan requests, we’re up very, very significantly compared to mortgage. So it’s a really mix shift into just lower monetizing products, so I wouldn’t worry too much about it.', 'Okay, that’s helpful. Then on the match rates, just curious about your thoughts, how that’s going to fare this year. It seems like the average American balance sheet continues to improve, you’ve got improving credit scores. That’s obviously going to help a little bit, but can you talk about the expectations just around your customer appetites this year? Do you feel like with a bit of a wind-back in regulations and, I guess, just rising rates, that there could a widening of the credit box?', 'Yes, so thanks for that question. We’re already seeing substantial increases in demand. We’ve already talked about mortgage, where the match rates are up and matches per are up, so that’s already happening. We are--in personal loans, we see very, very strong demand for prime and improving demand for mid, sub-prime, so I think that’s a positive trend. Credit cards, the issuers are relatively insatiable, so there’s strong demand there; and home equity demand is really just exploding. The number of lenders has increased dramatically there and interest in that product has increased dramatically, and that’s working for the lenders.; ; So I think what you’re seeing is pretty strong demand across the board for our product, and that’s benefiting obviously on the match rate side.', 'Okay, that’s helpful. If I could squeeze in one more, on the mortgage side, can you talk a little bit about the size of customers, how you’re seeing that split out across the board? Are you seeing some of those larger lenders pick up appetite over the last quarter or two?', 'Absolutely. When you think about these large lenders, they have a very, very big appetite, and when their volume closes, you just--I mean, if somebody’s got 2,000 loan officers and the volume goes down by a little bit, even 10%, they’ve got 200 people sitting around with nothing to do and they want to fill those guys up. So we’re definitely--so the bigger lenders on the network have a lot more experience with LendingTree and thus they can up their buys, and that’s been working really across the board. So it’s not only bigger lenders joining the network, it’s bigger lenders with bigger appetites and bigger budgets spending a lot more money with us, or wanting to spend more money with us. Quite frankly, we have so much under demand right now, we’re working diligently increasing around the marketing side to make sure we can get all the volume and fill it up for them.', 'Yes, and just to supplement Doug’s point, the number of lenders with $500,000-plus spend with us increased materially in the quarter, so we’re definitely seeing people move up the food chain.', 'That’s great to hear. Thanks guys.', 'Thank you. Our next question comes from the line of Neil Doshi with Mizuho. Your line is open, please go ahead.', 'Great, thanks guys. Doug, can you maybe talk about some of the new markets that you’re trying got move into, like pre-prime or commercial real estate, insurance, etc.? I know it’s early days, but how are some of those products coming along, and any initial uptake there? Then secondly, how should we think about the growth of MyLendingTree users. That seems to tick up nicely. Will we see more effort, I guess in terms of marketing that app so that people will download that app, and what type of stickiness do you guys tend to see once someone downloads the app and starts using the MyLendingTree app? Thanks.', 'Got it. So on the first one, some of the things we’re looking at, and I don’t want to get too specific here because some of them are acquisitions, so I won’t go--I’ll give you some anecdotes. But one that’s actually launching today or tomorrow, believe it or not, is auto insurance. We’re doing it through a partnership, and we’re actually probably going to be marketing that directly in addition to cross-selling it on our site. The commercial mortgage business is one that is very broker-based with high middle man fees, low transparency, the developers need to flip those every five years, so we like that. We’re looking at every category of small business loans [indiscernible] small business, it breaks down in probably 10 different categories of lending, and then we’re looking at some of the niche areas, for example could even go as well as helping builders find individual investors where banks aren’t available - the so-called hard money market. We think that’s interesting, although early. We think life insurance may be interesting, but that’s a long time lag.; ; By the way, we’ll start all these insurance things are partnerships, so we won’t have to distract from where we are. In each of these categories, by the way, there are a number of acquisitions that could potentially be available at decent prices. So that’s a little bit of a flavor of it all there.', 'To the second question, which I believe was MyLendingTree and marketing of MyLendingTree products, in January we started some paid marketing on MyLendingTree direct to the website, as well as [indiscernible] on our legacy app. As Doug says, the new app is fantastic. I highly encourage everyone to download it. We will be scaling up our app marketing on that product in the coming weeks, so we very much look forward to scaling up our marketing on MyLendingTree.', 'Thanks guys.', 'Thank you, and our next question comes from the line of Hamed Khorsand with BWS Financial. Your line is open, please go ahead.', 'Hi, good morning. First off, just talk about mortgage. The trends you’re seeing there from your lenders, is that more of a secular trend, what you’re seeing with lenders coming on, spending more, or is that market share gains from a competitive standpoint?', 'It’s absolutely both. So the way we like to think about increases is, first off, you’ve got the size of the market growing, and I don’t have good data--if you look at our investor widget, that little bubble at the bottom, that’s definitely growing, which means there’s a secular trend of lenders getting more of their volume from online, which just makes total sense. I mean, we’ve talked about it before - this is really the last big category to move online, so you have that happening, and then you have the lender, which by the way is showing that lenders are increasing their demand, so they’re increasing their demand with us from that. We’re also seeing that lenders are increasing their wallet share with LendingTree, and we’re really going after that hard. We’re basically going to lenders and saying, what’s it going to take to get more and more of your wallet share? And we do that based on a really great analytics platform. We actually go in and tell the lenders where they can succeed, where they can’t, how much money they can make in each of their filter segments, and really going in and helping them do that. So it’s definitely stealing wallet share and it’s definitely moving online, and then you have this purchase-refi change which shows the offline market is going down, so now they’re going to shift even more money into areas where they can get volume.', 'Okay. Then just following up on MyLendingTree, now that it’s been a couple years, at least, could you provide some stat on how long before the actual subscriber takes action, actually wants to do something beyond just looking at their credit score?', 'Sure. So actually, we’re seeing monetization happen in the first couple months, and then quite frankly it will pale from there for a period of time, except for your sub-prime folks who are going to see an increase in their credit score and then they’re going to be able to lower pricing that way. Then for other people who obviously take action the first couple months, they’re going to have more needs continuing throughout their life as they buy homes and do other things. But they’re actually transacting fairly quickly, which gives us a lot of confidence that we can put together marketing campaigns to go after that.', 'Okay, but are you seeing anything from the inactive side, where customers sign up and they’re excited, they’re monitoring things, and how long before they become active, and what are you doing on that front to get them engaged again?', 'So every time we--so first off, the engagement is still there but you’re going to have fewer alerts, so you’re not going to--you don’t need to come back all the time unless we send you an alert. So the new features we add and the new alerts we add, we’re seeing it bring people back. They’re coming back not because they want to come play a game on MyLendingTree, they’re coming back because we sent them an alert that’s actionable for them and then they can take action. We’re both seeing a lot more customers taking action, we’re also getting better conversion rates from our alerts to them taking action, just by a number of blocking and tackling and just ongoing initiatives through conversion tunnels, like we do everywhere.; ; By the way, the other thing I would add is one of the great things about this alert-based product, you get wonderful customer satisfaction out of something like that because you’re not calling them or you’re not touching them unless there’s actually a real savings, and consumers love it. And now we’re going to go start telling them about it with this bigger monetization and start marketing, which I know has been a long time coming, but we feel better about it. We’ll start small and scale into it.', 'Okay, appreciate it. Thank you.', 'Great, thank you.', 'Thank you. Our next question comes from the line of Jed Kelly with Oppenheimer. Your line is open, please go ahead.', 'Great, thanks for taking my question. Looks like CompareCards grew about 30% in 2016, and the site still has much less website traffic than some of its larger competitors. Do you actually think it’s possible to accelerate CompareCards revenue growth by leaning in more into branded channels in ’17?', 'Yes, so absolutely I think it’s possible, and there’s been great collaboration between the teams across a variety of marketing channels. The great thing is, they are fantastic at things like paid search, we’re fantastic in things like display and some partnerships and things like that, and social, so we’re sharing that knowledge across the company so that we can leverage what they’re great at, they can leverage what we’re great at. I think that helps the combined companies, and we can also really focus the marketing efforts where we’ve made the highest payouts as well.', 'Thank you.', 'Thank you. Our next question comes from the line of Michael Tarkan with Compass Point. Your line is open, please go ahead.', 'Hey guys, this is actually Andrew Eskelsen on for Mike. Thanks for taking my questions. So with the dust now settling after you guys completed CompareCards, how can we think about capital allocation at this point? Should we think you’re going to skew more towards M&A or maybe go back to the buyback?', 'So buybacks, we are there every--typically every quarter, we have to [indiscernible] as Gabe said. We [indiscernible] based on price, and prices ran up and that’s why we didn’t get any buybacks this year. From a capital allocation standpoint, increasingly we are focusing on that. I can’t predict which way it will go. Basically we’re going to deploy capital in the most efficient way possible. We’re going to keep looking at leverage to make sure that we can do that, and look, it’s not lost on me but when I think about it, the companies that perform the best over time are the ones who make smart capital allocation decisions, which means you buy back your stock when it’s valued right and you use it for acquisitions carefully in a way that you can get things that are accretive and try to do that very efficiently over time, and we’re there.; ; So I can’t tell you which one it’s going to be. I can tell you we are going to make more acquisitions, and one of the things that’s really thrilled me, as somebody working for the company, is seeing our company be able to actually execute an acquisition and have it come in, diligence it, get the right numbers. By the way, we’ve said no to probably 10-plus things recently, and we said yes to one, so I think it shows we can buy the right thing and we can execute it the right way and integrate the right way.', 'Just a clarification question from me - did you guys buy back any stock during 4Q?', 'No, we didn’t. Obviously we were in the middle of an M&A process, and [indiscernible] capital allocation, we want to make sure we have the right firepower there. I think the CompareCards acquisition is a great example and model of the type of thing we want to look for, which is growing, is profitable, it’s highly strategic, it complements our needs as a company and has a fantastic multiple. So those are the types of things we’re looking for, and those can be highly, highly accretive acquisitions, but we want to make sure we have the right amount of capital available there, but we think we’re very, very happy with that one.', 'And then one more from me - so on the injunction against--I guess it’s from NextAdvisor, are you seeing any impact there, and can you quantify that for us, if possible?', 'So we’re seeing a slight--let’s just clarify for everybody. That injunction basically says that we cannot do native advertising, which is basically writing an article and putting it out on the internet. We cannot do native advertising only through three ad networks that place those, so while that caused a short-term dip, like we’ve talked about before, now we’re doing direct deals where those ads used to get placed, and the injunction will have a little effect but it will--it is diminishing over time. You should also know the percentage of our profits that came from that native stuff was--Gabe will talk about it, but it was not very large, so really it is not that much of a factor.; ; You want to give more detail on that?']\n"
     ]
    }
   ],
   "source": [
    "print(readable_transcript[1])"
   ]
  },
  {
   "cell_type": "code",
   "execution_count": 152,
   "metadata": {
    "scrolled": false
   },
   "outputs": [
    {
     "name": "stdout",
     "output_type": "stream",
     "text": [
      "wanted talk new business awards look quarterly cadence winning winning seems q2 last year suddenly something happens visteon booking much higher level subsequent quarters continue book elevated level know easy say ces 2016 important event lot good stuff shown talked meeting automakers tie back reason ask ces 2017 last month seemed even bigger better event certainly lot new products phoenix going meaningful event driver expect another stair step new business awards may next quarter quarter thereafter sustain higher levelwanted talk new business awards look quarterly cadence winning winning seems q2 last year suddenly something happens visteon booking much higher level subsequent quarters continue book elevated level know easy say ces 2016 important event lot good stuff shown talked meeting automakers tie back reason ask ces 2017 last month seemed even bigger better event certainly lot new products phoenix going meaningful event driver expect another stair step new business awards may next quarter quarter thereafter sustain higher levelsure joe first thing would say respect new business wins tend lumpy seen historically second quarter around many oems finalize sourcing decisions also happens case year see many decisions also likely coming fourth quarter kind explains lumpiness wins question regarding ces ces obviously strong boost terms improving visibility main reason feel continue strong performance new business wins trends talked earlier hmi cockpit hmi going transformation seen last little seeing lot new awards coming think account product portfolio technologies excellent showing ces good position continue track record grow new business trends outlined mentioned earlier deutsche bank conference target achieve next couple years feel confident track achieve goal\n",
      "\n",
      "sure joe first thing would say respect new business wins tend lumpy seen historically second quarter around many oems finalize sourcing decisions also happens case year see many decisions also likely coming fourth quarter kind explains lumpiness wins question regarding ces ces obviously strong boost terms improving visibility main reason feel continue strong performance new business wins trends talked earlier hmi cockpit hmi going transformation seen last little seeing lot new awards coming think account product portfolio technologies excellent showing ces good position continue track record grow new business trends outlined mentioned earlier deutsche bank conference target achieve next couple years feel confident track achieve goal\n"
     ]
    }
   ],
   "source": [
    "print(\"The question:\")\n",
    "print(qa_pairs[1][0])\n",
    "print(\"\")\n",
    "print(\"The answer:\")\n",
    "print(qa_pairs[1][1])\n",
    "print(\"The model output:\")\n"
   ]
  },
  {
   "cell_type": "code",
   "execution_count": 139,
   "metadata": {},
   "outputs": [
    {
     "name": "stdout",
     "output_type": "stream",
     "text": [
      "['good morning bill robertson vice president finance visteon welcome earnings call fourth quarter full year 2016 please note call recorded lines placed mode prevent background noise begin morning call would like remind presentation contains statements within meaning private securities litigation reform act 1995 statements guarantees future results conditions rather subject various factors risks uncertainties could cause actual results differ materially expressed statements please refer', 'slide entitled information details presentation materials today call posted investors section visteon website morning please visit download material already done form filed earlier morning news release joining us today sachin lawande president chief executive officer christian garcia executive vice president chief financial officer scheduled call one hour open lines questions sachin christian remarks please limit questions one question one thank joining us call today', 'turn sachin', 'thank bill page 2 let briefly cover consolidated fourth quarter 2016 results electronics product group fourth quarter traditionally one strongest quarters seasonally adjusted basis particularly pleased overall performance fourth quarter across several key metrics achieved sales 803 million quarter increase 4 versus fourth quarter delivered adjusted ebitda 98 million adjusted ebitda margin 150 basis points improvement compared quarter year ago adjusted free cash flow', '79 million 20 versus fourth quarter 2015 billion new business fourth quarter significant wins key product areas discuss depth later proud work visteon employees around world generate strong results help us finish year high note rest presentation provide details operations quarter moving page 3 page highlight key accomplishments year 2016 first execution strategy pleased progress company made sales business development profitability key operational areas', 'business delivered billion electronic sales launching 59 new products year china largest market new business wins reached record billion 26 visteon clearly seen strategic supplier several leading auto manufacturers world backlog billion 11 higher year earlier respect profitability cash flow achieved electronics adjusted ebitda margin 2016 increase 160 basis points prior year pleased say increased adjusted ebitda margin target 12 14 continuing invest future', 'technologies generated positive adjusted free cash flow 167 million year strong cash liquidity position initiated new share repurchase authorization 400 million also made substantial progress improving operational capability business completed development infotainment system platform launched ces earlier year started development autonomous driving technology continue successfully recruit high caliber tech talent lead new initiatives finally substantially completed legacy restructuring actions allowing us focus driving growth', 'core cockpit electronics business turning page 4 discussed prior calls winning new business priority visteon drive revenue growth fourth quarter 2016 continue build strong momentum created year new business expected lifetime revenue approximately billion brings new business wins billion 2016 billion higher 2015 26 increase building market leadership combiner displays fourth quarter wins included first windshield display award strategic win leading china domestic oem', 'first expect many significant windshield display awards months come also landed significant infotainment win chinese domestic automaker first infotainment system win china commercial vehicle market boost overall infotainment volumes within china finally awarded major global instrument cluster award north oem continue perform well instrument cluster segment based strength technology platforms space page 5 show total awarded business backlog stands record billion end 2016 awarded', 'business backlog increased billion 11 versus 2015 achieving aggressive goal growth year order backlog represents cumulative remaining booked sales remains level five times greater sales underscores health business attractiveness technology world leading automakers successfully diversified customer portfolio regional breakdown awarded business balanced leaning towards regions faster growth profiles strength instrument cluster technology reflected business backlog also winning core product areas displays infotainment displays mentioned', 'growth backlog good leading indicator future growth sales business encouraged ability grow backlog year thankful customers placed trust confidence visteon moving page 6 second quarter call earlier year said expecting rebound sales china second half year subsequently reported strong china sales third quarter pleased report trend continued fourth quarter china sales exceeded vehicle production volumes saw sales increase compared quarter year earlier shown left', 'side page fourth quarter visteon sales increased 43 constant currency basis backdrop china passenger vehicle production volumes growing 17 period visteon sales china increased 26 constant currency basis faster market growth due new product launches visteon customer mix growing quickly overall market visteon current sales china largely joint venture international oems past years domestic china oems ge grown rapidly approximately 40 market past year', 'made priority expand relationship domestic channel oems continuing grow joint venture oems pleased report billion new business china 2016 increase 84 prior year greater portion business coming domestic china oems moving page 7 page show key financial metrics business past three years focused disciplined approach business focus execution resulted significant improvement profitability visteon acquired jcis automotive electronics business mid 2014 new business pipeline visteon', 'jci strong due uncertainty future also product technology portfolio streamlined significant gaps management team successfully integrated jcis business delivering beyond synergy case acquisition one strongest technology product portfolio cockpit electronics industry demonstrated take fair share new business awards done reducing cost resulted improved profitability even flat sales environment 2016 finished year engineering cost sales prior year supporting increased number customer programs investing new technologies', 'infotainment autonomous driving platforms adjusted sg reduced sales compared 7 prior year continue focus cost reduce fixed cost business drive higher profitability especially start see new business wins convert revenue moving page 8 said visteon broadest product technology portfolio cockpit electronics industry 2016 strengthened position pleased report abi research named us top five supplier connected car solutions ihs named us number two supplier instrument', 'clusters displays number three supplier display solutions industry cockpit electronics dynamic industry evolving quickly would like briefly discuss key trends driving product segments instrument clusters transforming hybrid analog small display clusters digital reconfigurable clusters addition support new hmi requirements driven emerging autonomous driving technologies clusters required support travel monitoring gaze tracking also 3d technology displays one fastest growing products windshield displays entering mass market', 'vehicle segments also emerging need augmented reality displays support new adas capabilities cockpit domain controllers starting become common across industry silicon software suppliers emerge support capability besides instrument cluster infotainment new product domains adas added cockpit domain controller center stack displays trend use larger displays curved even free form tactile touch feedback audio infotainment reaching inflection point integration smartphone metering technologies entry segment mid', 'high infotainment systems becoming mobile app platforms visteon tracking trends closely demonstrated many new technologies ces january new technologies confident continue strengthen competitive position industry moving page 9 page would like discuss significance cockpit hmi autonomous driving many new capabilities cockpit hmi emerging based requirement support evolution towards autonomous driving last significant change offer cockpit electronic hmi driven introduction infotainment technology cockpit required industry', 'move beyond hard buttons knobs touch screens haptic controllers evolution infotainment turn turn full map transition digital media driven much evolution seen cockpit electronics hmi center stack displays touch capability digital instrument clusters displays visteon done well phase cockpit electronics hmi discussed previous slides another transformation cockpit electronics underway driven requirements autonomous driving manage transition vehicle control driver vehicle especially level 3 higher automation', 'expect level 3 self driving car functions like highway auto pilot self parking market 2020 several oems timeframe expect augmented reality displays 3d instrument clusters tracking enable driver relinquish control vehicle certain conditions alerted necessary take back control vehicle see lot alignment evolution autonomous driving technologies new hmi capabilities already mentioned visteon developing cockpit hmi features part technology roadmap core products industry moves towards', 'autonomous driving features become increasingly important winning future business moving page 10 page show roadmap significant new technology development visteon extends product portfolio area made major progress 2016 ability define staff execute new technology development initiatives would like note enhancements existing products instrument clusters displays considered instrumental innovations purpose discussion pleased report launched new infotainment system platform called phoenix ces las vegas early january', 'technology enables visteon offer mid high infotainment addition entry infotainment puts us shortlist handful tier 1 suppliers capability phoenix infotainment platform uses latest innovations software delivering first app environment embedded infotainment highly cyber secured also fully upgradable air response customers ces phoenix promising actively following multiple opportunities time overall ces successful event visteon 45 oems world visiting booth many upcoming hmi technologies mentioned earlier', 'demonstrated event 2016 also ramped autonomous driving technology platform development focus development fault tolerant hardware software enable centralized processing sensor information using algorithms based deep machine learning capability extends product portfolio cockpit hmi heart vehicle driving experience future successfully recruited top notch talent different companies industry lead initiative early engagements oems encouraging expect launch new technology platform next ces new technology initiatives strengthen visteon', 'position cockpit hmi extending capability exciting transformative area automotive electronics autonomous driving technology moving page 11 page next would like focus business environment facing 2017 key priorities visteon first expecting modest improvement global production volume 2017 versus 2016 ihs expecting global production volumes grow 2017 china europe showing positive growth north america forecast reduce moreover top 10 visteon customers forecast grow less 1 weighted', 'sales bright spot visteon china sales continue grow rate based new product launches 2016 2017 furthermore expect benefit globally cockpit electronics sourcing decisions oems driven trends discussed earlier transition instrument clusters digital consolidation ecus domain controller upgrade infotainment solutions expect 2017 similar 2016 terms macro business environment confident product technology portfolio coupled relentless focus execution continue drive success 2017 well moving page 12 outline', 'strategic priorities visteon 2017 set stage us achieve longer term plans first priority continue improve core business growing sales improving margins 2016 despite minimum help also aim drive new business wins track achieve combined 12 billion target 2017 next priority accelerate china business growing sales well new business wins involves leveraging new products smartcore phoenix infotainment solutions well excellent relationships joint ventures world largest', 'automotive market third continue develop new technologies mentioned earlier intend launch early 2018 new autonomous driving platform targeting level 3 plus capabilities strategy yielded strong results 2016 last three years total shareholder return 68 significantly outperformed p 500 peer group confident track another successful year concludes overview comments christian walk financial results fourth quarter 2016', 'thanks sachin good morning everyone let provide company key financial results fourth quarter 2016 electronics product group shown page 14 explained prior calls financial results impacted number items make comparisons difficult adjusted financial information presented slide excludes items represents manage business internally financial measures reconciled gaap financials attached appendix starts page also reclassified majority climate interiors businesses discontinued operations financial statements result income statement', 'adjusted exclude portions climate interior specific income expenses reflected discontinued operations financials page reflect ongoing electronics product group exclude discontinued operations electronic sales 803 million fourth quarter increased 4 compared prior year highest quarterly growth rate experienced year quarter saw growth asia driven new product launches region particularly china sachin mentioned believe momentum seen china 2016 continue adjusted ebitda electronics 98 million representing 18', 'increase fourth quarter 2015 increase largely reflects higher volumes favorable currency related balance sheet evaluation adjusted free cash flow electronics positive 79 million quarter versus 66 million fourth quarter 2015 increase primarily explained increased adjusted ebitda cover metrics detail following pages page 15 highlight electronics sales adjusted ebitda adjusted ebitda margins fourth quarter 2016 versus periods last year electronics sales fourth quarter 2016 803', 'million adjusted ebitda 98 million quarterly records segment evidence progress made journey transform company sales increased 28 million versus 2015 benefit new business wins offset customary pricing arrangements customers adjusted ebitda increased 15 million fourth quarter versus 2015 increase reflected impact new business favorable currency related balance sheet evaluation currency impact driven primarily movement japanese yen euro quarter business equation quarter neutral material manufacturing', 'cost savings offset contractual pricing arrangements customers increased warranty costs year business equation improved adjusted ebitda approximately 25 million electronics adjusted sg year 203 million electronics sales sales 2015 continue focus achieving sg reductions adjusted ebitda margin quarter ended year adjusted ebitda margin 11 new milestone company represents improvement 160 basis points compared page 16 provides cash flow total adjusted free cash flow positive', '82 million fourth quarter compared 62 million fourth quarter last year page separated electronics cash flows cash flows related discontinued operations core electronics adjusted free cash flow positive 79 million quarter compared 66 million fourth quarter last year representing growth 20 increase adjusted free cash flow reflects increased adjusted ebitda improved freight working capital lower capital expenditures restructuring payments 19 million quarter currently executing', 'restructuring program anticipate complete towards second half 2017 estimate additional cash outflows associated program approximately 40 million coming year cash investments end year 882 million debt 382 million continue strong capital structure net cash position times page 17 pleased announce legacy related actions largely completed allowing us focus core cockpit electronics business activities related former climate product group shown left know divested 70 stake', 'former halla visteon climate control business second quarter 2015 since taken additional actions related remaining pieces climate business including selling south africa operations closing south america operations fourth quarter finalizing repurchase electronics portion business india initially included climate divestiture anticipate completion first half 2017 similarly divested majority interiors business fourth quarter 2014 since sold south america interiors operations fourth quarter 2016 remains 30 million', 'europe payment related sale berlin interiors facility 2015 representing funds held back time sale expect make payment first half coming year expect payments related legacy businesses first half moving page 18 company long history committed capital returns returning billion last five years 2016 distributed billion combination share buybacks special dividends announced last month board authorized new 400 million buyback program anticipate completed march 2018', 'underscores confidence growth prospects shows commitment delivering value shareholders intend execute repurchase shares combination open market accelerated stock repurchase programs shareholder distributions continue part capital allocation approach going forward company continues generate cash expect opportunities return capital investors turning page 19 reaffirming 2017 financial guidance sales adjusted ebitda adjusted free cash flow projecting sales billion billion adjusted ebitda 355 million 370 million adjusted free', 'cash flow 165 million 180 million expect sales adjusted ebitda related product group discontinued operations see guidance targeting increase adjusted ebitda electronics product group 2017 despite minimal sales growth anticipate improvement profitability would backend loaded first half 2016 benefited adjustments warranty expense favorable currency levels additionally would see savings impact restructuring program supplier negotiations second half also targeting growth new business wins coming year', 'expect quarterly sourcing activity would follow historical patterns typically see increased levels sourcing activity second fourth quarters compared first third quarters given year let turn back sachin closing thoughts', 'thanks christian moving page 20 closing pleased visteon performance 2016 value delivered customers shareholders 2016 year set foundation much stronger visteon technology focused company poised capitalize emerging cockpit electronics trends proud work everyone visteon done put us strong position said deutsche bank conference early january project sales grow billion 2021 driven current high business backlog expected new business wins year 2018 furthermore increased adjusted', 'ebitda margin objective 14 short excited optimistic future thank joining us today would like open call questions']\n"
     ]
    }
   ],
   "source": [
    "print(cleaned_transcript[2])"
   ]
  },
  {
   "cell_type": "code",
   "execution_count": 140,
   "metadata": {},
   "outputs": [
    {
     "data": {
      "text/plain": [
       "'position cockpit hmi extending capability exciting transformative area automotive electronics autonomous driving technology moving page 11 page next would like focus business environment facing 2017 key priorities visteon first expecting modest improvement global production volume 2017 versus 2016 ihs expecting global production volumes grow 2017 china europe showing positive growth north america forecast reduce moreover top 10 visteon customers forecast grow less 1 weighted'"
      ]
     },
     "execution_count": 140,
     "metadata": {},
     "output_type": "execute_result"
    }
   ],
   "source": [
    "cleaned_transcript[2][23]"
   ]
  },
  {
   "cell_type": "code",
   "execution_count": null,
   "metadata": {},
   "outputs": [],
   "source": [
    "[(None), (20, 21, 22), ]"
   ]
  },
  {
   "cell_type": "code",
   "execution_count": null,
   "metadata": {},
   "outputs": [],
   "source": []
  },
  {
   "cell_type": "code",
   "execution_count": null,
   "metadata": {},
   "outputs": [],
   "source": []
  }
 ],
 "metadata": {
  "kernelspec": {
   "display_name": "Python 3",
   "language": "python",
   "name": "python3"
  },
  "language_info": {
   "codemirror_mode": {
    "name": "ipython",
    "version": 3
   },
   "file_extension": ".py",
   "mimetype": "text/x-python",
   "name": "python",
   "nbconvert_exporter": "python",
   "pygments_lexer": "ipython3",
   "version": "3.6.7"
  }
 },
 "nbformat": 4,
 "nbformat_minor": 2
}
