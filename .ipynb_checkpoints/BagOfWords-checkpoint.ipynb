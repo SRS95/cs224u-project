{
 "cells": [
  {
   "cell_type": "code",
   "execution_count": 1,
   "metadata": {},
   "outputs": [],
   "source": [
    "import numpy as np\n",
    "import pandas as pd\n",
    "import pickle\n",
    "from sklearn.feature_extraction.text import CountVectorizer"
   ]
  },
  {
   "cell_type": "code",
   "execution_count": 2,
   "metadata": {},
   "outputs": [],
   "source": [
    "# Load data in the format outline in FormTranscripts\n",
    "with open('data/transcripts.pickle', 'rb') as f:\n",
    "    transcripts = pickle.load(f)\n",
    "with open('data/id_to_row.pickle', 'rb') as f:\n",
    "    id_to_row = pickle.load(f)"
   ]
  },
  {
   "cell_type": "code",
   "execution_count": 3,
   "metadata": {},
   "outputs": [
    {
     "name": "stdout",
     "output_type": "stream",
     "text": [
      "['Cummins, Inc.', '2017-02-09 15:24:33', ['good day ladies gentlemen welcome q4 2016 cummins earnings conference call time participants mode later conduct session instructions follow time would like turn call mark smith vice president finance operations please go ahead', 'thank good morning everyone welcome teleconference today discuss cummins results fourth quarter 2016 joining today chairman chief executive officer tom linebarger chief financial officer pat ward president chief operating officer rich freeland start please note information hear given today consist statements within meaning securities exchange act 1934 statements express forecast expectations hopes beliefs intentions strategies regarding future actual future results could differ materially projected', 'statements number risks uncertainties information regarding risks uncertainties available disclosure statement slide deck filings sec particularly risk factors section recently filed annual report form subsequently filed quarterly reports form course call discussing certain financial measures refer website reconciliation measures gaap financial measures press release copy financial statements today presentation available website heading investors media turn tom', 'thank mark inspiring introduction good morning everybody start summary fourth quarter full year results finish discussion outlook 2017 pat take details fourth quarter financial performance forecast year references ebit ebit percent exclude restructuring impairment charges taken fourth quarter 2015 revenues fourth quarter 2016 billion decrease 6 compared fourth quarter 2015 ebit 526 million compared 531 million year ago ebit increased percentage sales benefits cost', 'reduction actions absence loss contingency charge recorded fourth quarter 2015 offset impact weaker volumes full year cummins sales billion 8 ebit margin 2015 decremental ebit margin year 24 consistent plan even absorbing 138 million additional accrual loss contingency solid performance reflects strong execution restructuring plans material cost reduction programs quality improvements helped mitigate impact lower volumes weak markets engine business sales declined 10 2016', 'due weaker production medium trucks softer demand construction equipment north america ebit compared 2015 due impact weaker revenues increased accrual loss contingency sales distribution segment declined 1 weaker sales markets negative impact stronger us dollar offset growth acquisitions fourth quarter 2016 completed acquisition last remaining distributor joint venture north america bringing total number acquisitions 13 since announced plans september 2013 full year ebit compared', '7 2015 due weaker organic sales negative impact currency full year revenues components segment decreased 6 weaker truck demand north america offset strong growth china ebit compared 2015 mainly due impact lower sales ebit fourth quarter incurred additional costs associated launch new single module aftertreatment system north america expect continue incur additional costs first half 2017 resolved startup issues production supply chain important new', 'product power systems sales declined 14 2016 weak demand major geographies end markets ebit compared 2015 impact lower sales offset 17 reduction operating expenses achieved restructuring cost reduction activities continue make good progress plans exit uk generator set manufacturing plant kent high horsepower generator set assembly transferred daventry engine plant end 2017 complete transfer remaining wide variety small generators currently produced kent existing locations', 'china india actions position business cost reduction comment key markets 2016 starting north america comment largest international markets revenues north america declined 12 2016 primarily due lower engine component sales north american heavy truck markets industry production north american heavy duty trucks declined units decrease 31 2015 levels market share clearly improved second half 2016 exceeded 31 full year 33 2015 2016 marked 10th', 'straight year customers selected cummins leading engine supplier truck market market size trucks units 2016 decline 13 2015 remain clear leading engine manufacturer truck market full year market share 75 slightly 78 year ago 2016 marked another strong year pickup truck sales north america shipped engines chrysler slightly ahead 2015 volumes sold units nissan first year full year production engine sales construction customers north', 'america declined 15 2016 market faced overhang equipment inventory drove oems cut production engine shipments high horsepower markets north america declined 14 reflecting weaker demand end markets revenues power generation decreased 4 driven lower sales rental companies cut back capital expenditures international revenues declined 2 2016 full year revenues china including joint ventures billion increase 6 end markets rebounded weak levels 2015 industry demand', 'medium trucks china increased 28 full year oems increased production partially driven new regulations combatting vehicle overloading market share 2016 15 16 2015 partner dongfeng lost share face competitive pricing industry sales isg engine grew line market shipments light duty engines china increased 14 overall market declined 1 foton continued increase proportion trucks powered joint venture engines displacing local competitor engines full year share', 'truck market exceeded 7 2016 90 basis points earnings foton cummins joint ventures declined 2016 volumes increased fourth quarter initiated actions improve performance reliability isg engines duty cycles incurred costs joint venture make product changes support customers expect product improvements complete third quarter year expect incur additional costs associated actions actions complete albeit lower level experienced fourth quarter last year despite issues remain confident', 'isg engine chinese truck market customer demand engine remains strong demand construction equipment china improved sales excavators rising 19 2016 marks first annual increase demand excavators since 2011 demand remains well historical levels construction engine volumes increased 40 excavator demand increased picked share wheel loaders revenues power systems business china declined 17 due continued weakness power generation marine mining markets full year revenues india', 'including joint ventures billion 7 increase 2015 industry truck production increased 8 units market share remained 41 2016 nearly 80 tata motors trucks powered joint venture engines revenues power generation increased 2 brazil revenues decreased 19 driven mainly 18 reduction truck production challenging economy let provide overall outlook 2017 comment individual regions end markets forecasting total company revenues 2017 flat 5 2016 expect market', 'conditions continue challenging 2017 especially first quarter industry production trucks north america projected units 2017 11 decrease expect market share 29 32 truck market expect market size units flat compared 2016 project market share range 73 75 engine shipments pickup trucks north america expected flat compared strong china expect domestic revenues including joint ventures 3 2017 currently project flat demand light medium truck markets', 'expect market share medium truck market least 15 flat 2016 expect share grow 8 7 currently project 5 growth markets china india expect total revenues including joint ventures decline 5 mainly due weaker truck demand driven transition bharat stage iv emission standards starting april bharat stage iv first major emissions change indian truck market involving introduction aftertreatment systems result hard predict impact truck demand', 'truck dealers appear well stocked new trucks anticipate end user activity likely met current truck inventories without significant increase production first quarter expect demand drop implementation new regulations factored decline industry production 10 20 full year forecast currently expect growth 5 markets india demand markets growing faster rate first half 2016 pace economic growth slowed following introduction government demonetization policy optimistic government focus improving', 'infrastructure support growth businesses coming years brazil expect truck production flat 2017 demand low levels optimistic next move production clear catalyst sustained improvement near term expect global high horsepower engine shipments flat 2017 expect modest improvement new engine orders mining customers demand marine markets remains weak orders new engines oil gas applications north america also remain low although demand rebuilds existing engines increased summary', 'expect full year sales flat 5 due mainly weaker truck production north america expect ebit range 11 sales performance expected weakest first quarter cost reduction initiatives focus operational improvements effectively managed multiyear decline largest markets delivered ebit margins well prior troughs continued invest new products distribution network position us drive profitable growth end markets improve demand key markets remained replacement levels said first time', 'number years early signs point towards improvement 2018 addition strong focus operational improvements also continued return cash shareholders returned 75 operational cash flow shareholders 2016 return least 50 2017 dividends share repurchases finally continue make progress advancing strategy outlined last analyst day although nothing announce today optimistic continue make progress executing plans let turn pat', 'thank tom good morning everyone start view full year 2016 financial results moving fourth quarter performance comparisons full year fourth quarter 2015 company operating segments exclude charges impairment restructuring actions took fourth quarter full year revenues company billion decrease 8 compared prior year tom described declines commercial truck production north america lowest level demand high horsepower industrial engines power generation equipment decade led overall', 'revenue decrease negative currency movements dollar reduced sales approximately 2 north american revenues declined 12 2016 represented 58 total revenues 61 international revenues declined 2 compared previous year mainly due foreign currency movements excluding impact currency movements international revenues grew almost 2 growth china india offset weaker demand latin america middle east africa gross margins sales 50 basis points lower last year material cost', 'reductions benefits restructuring actions taken fourth quarter 2015 offset negative impact lower volumes unfavorable product mix selling admin research development costs 50 basis points percent sales decreased 145 million year due savings previous restructuring actions partially offset added expense distributor acquisitions joint venture income decreased 14 million compared last year due acquisition north american distributors earnings joint ventures china income expense improved 50 million', 'primarily due change cash surrender value owned life insurance plans gains recorded divestiture power systems joint venture increase royalty income total earnings interest tax ebit sales 2016 sales reported previous year decremental ebit margin 24 full year ebit 2016 2015 included charges loss contingency 138 million 60 million respectively previously reported net income billion per share compares billion per share previous year operating tax', 'rate full year compared 2015 due changes geographic mix earnings let comment specifically fourth quarter provide details performance fourth quarter revenues billion decrease 6 year ago sales north america represented 56 fourth quarter revenues declined 13 year ago result lower commercial truck production north america weaker demand industrial engines power generation equipment international sales improved 6 compared 2015 due stronger demand china mexico offset', 'weaker conditions middle east africa gross margins sales decline 50 basis points year ago warranty 80 basis point headwind due low expense recorded fourth quarter 2015 negative impact lower volumes unfavorable product mix partially offset material cost savings benefits previous restructuring actions selling admin research development costs 677 million 15 sales increased percent sales 60 basis points decreased 8 million year ago benefits previous', 'restructuring actions offset added expenses distributor acquisition joint venture income 67 million 8 million lower compared year ago earnings declined due costs incurred associated quality improvements foton cummins joint venture china largely offset earnings growth number international joint ventures earnings interest tax 526 million sales quarter compared 531 million year ago ebit fourth quarter 2015 included 60 million charge loss contingency net earnings quarter', '378 million per diluted share compared year ago effective tax rate quarter 22 moving operating segments let summarize performance quarter full year 2016 provide forecast 2017 review full year cash flow conclude company revenue profitability expectations upcoming year engine segment revenues 2 billion fourth quarter decrease 6 last year revenues declined 9 overall lower heavy truck engine sales north america partially offset increased sales', 'bus pickup markets revenues increased 8 primarily due higher construction sales regions except latin america segment ebit quarter 194 million sales increase compared reported year ago ebit fourth quarter 2015 include 60 million charge loss contingency addition benefits restructuring material cost reduction helped mitigate impact lower volumes quarter full year revenues decreased 10 year ago earnings interest taxes declined sales engine segment 2017 expect', 'revenues 3 6 due weaker demand north america ebit margins range sales distribution segment fourth quarter revenues billion decreased 2 compared last year decrease result 6 decline organic sales 1 unfavorable impact stronger dollar partially offset 5 increase revenue acquisition completed fourth quarter ebit margin fourth quarter 122 million sales increase year ago increase primarily driven gain 50 million acquisition last remaining unconsolidated north', 'american distributor 2016 full year sales segment declined 1 5 organic sales decline 2 unfavorable impact currency offset 6 growth acquisitions ebit percent sales declined 7 2017 revenue projected flat 4 increased revenue acquisition completed fourth quarter 2016 expected add approximately 200 million approximately 3 top line partially offset negative impact foreign currency expect ebit margins range 6 sales components segment revenues billion quarter', 'decline 5 year ago sales north america declined 16 due lower industry truck production international sales increased 13 primarily due 66 increase sales china segment ebit 140 million sales compared 175 million sales year ago addition impact lower volumes warranty costs higher tough comparison year ago also experienced higher expected startup costs associated transition new single module aftertreatment system likely persist first half full', 'year revenues 6 lower 2015 sales north america 14 partially offset strong growth china ebit percent sales decreased 2015 sales 2016 2017 expect revenue decline 2 6 result weaker demand north america ebit projected range 11 12 sales power systems segment fourth quarter revenues 932 million 5 year ago sales power generation equipment declined 7 compared year ago industrial engines revenues 4 primarily due', 'weaker marine mining engine sales compared last year ebit margins quarter 6 reported last year lower volumes unfavorable product mix project cost overrun uk offset benefits cost reductions favorable currency impacts gains recorded sale assets full year power systems revenue declined 14 2015 ebit margins declined sales focus cost reduction key holding decremental margins segment 18 despite significant drop revenue 2017 expect power systems', 'segment revenues flat 4 ebit margins expected 7 8 sales relatively similar 2016 given significant improvement end markets tom discussed track completely exit manufacturing site kent united kingdom yield net savings turning cash flow cash generated operations full year billion anticipate operating cash flow 2017 within guidance range 10 15 sales lowered capital expenditures 200 million 531 million 2016 expect 2017 investments range 500', 'million 530 million last year returned billion shareholders 75 operating cash flow repurchased million shares increased dividend 5 2017 plan return least 50 operating cash flow shareholders line commitment tom described majority businesses experienced multiyear declines demand forecasting company revenues flat 5 year primarily driven lower demand north american truck market modest declines power generation markets foreign currency headwinds expected reduce revenues approximately 200', 'million expect ebit margins 11 sales year face lower volumes 2017 negatively impact margins especially first half year remain focused cost reduction improvements material cost plant productivity quality current products helping offset impact lower volumes cost inflation commodities increased variable compensation merit pension expense expect ebit margins first quarter low point year fourth quarter 2016 levels lower sales income joint ventures expected decline approximately', '8 2017 primarily due acquisition last remaining north america joint venture distributor expect effective tax rate 26 year outlined analyst day back november 2015 expected period weaker demand ahead us managed effectively decline sales far taken actions necessary improve cost structure continuing invest new products services help drive profitable growth markets improve continue return value shareholders let turn back mark', 'thank pat ready move q section'], [('first question comes tim thein citigroup line open', 0), ('thank good morning first maybe tom curious maybe respect kind tone conversations north american customers distributors given transpired last say 90 days curious respect overall tone regarding underlying investment kind broader question curious going address maybe meaningful change terms attitudes', 0), ('thanks tim good morning let say high level mentioned remarks markets historically low levels way replacement nearly major markets heard forecast numbers north american truck really weak clearly big headwind going 2017 sprinting quite years keep costs control fact improve productivity cost facilities still able invest make sure grow faster market things improve feel like 2017 one years hand also heard say looks like next move many markets likely think able say planning conservatively year assuming going get little benefit planning costs accordingly et cetera good signs think rich little closer oems saying north america probably ask rich talk little bit truck market specifically signs seeing rich', 1), ('okay yeah thanks tom yeah hearing talk fleets people talking getting back replacement levels kind sat year mileage lower tends common theme every fleet often freight data looks good least improving bit dealer inventory looks pretty good level fact room grow dealer inventory able say think big overhang used truck values still bit issue generally pretty positive next move three months row production less order backlog growing future order board growing oems already starting see order boards getting filled people increasing orders think maybe go quickly oil gas actually starting engine orders seeing lot activity parts side rebuilds coming back think mentioned comments mining business think next move little bit started parts normal us starting see improvement generally guess positive couple talked maybe would india truck market marine business look like one say see recovery coming yet', 1), ('hopefully helps tim', 1), ('couple good quarters low', 1), ('yeah understood okay back rich comments parts maybe little bit color distribution sounds like within flat 4 3 contribution last acquisition maybe little bit color terms would thought outlook would little bit positive maybe color specific drivers within distribution', 0), ('hey tim mark expecting growth parts one market seeing continued weakness globally really power generation kind tempering outlook near term', 1), ('okay thanks lot', 0), ('power generation sales generally distribution business think looking year think 3 4 something like', 1), ('okay appreciate', 0), ('thanks tim', 1), ('thank next question comes jamie cook credit suisse line open', 0), ('hi good morning guess two questions one guidance second strategic one look engine sales margins implied decrementals decrementals seem normal back charges 2016 implied decrementals think mid high 30 seems like better wondering missing something could explain second question tom relates look past three quarters repos really falling really much give us update sort closer deal guess also think thinking company going forward always thought maybe potentially acquire business never really thought whether parts business make sense cummins anymore would want larger deal cash certain businesses generating proper returns guess two could help enlighten', 0), ('okay jamie take first one tom take second one decrementals let kind give high level bridge company really applies engine segment much company start ebit reported 2016 headwinds coming form lower volume unfavorable mix launch costs talking new products 70 basis points headwind three higher inflation costs terms people costs 2017 coming form higher pension expense given lower discount rates higher variable compensation 2016 merit increases people cost inflation 120 basis points year year', 1), ('gains 2016 30 basis points came form fair market value gains distribution sale power generation assets fourth quarter offsetting cost reductions really coming material cost looking 80 basis points year 150 basis points last year really given swing metal markets 50 basis points improvement last year metal markets 20 basis points negative year net 80 basis points cost reduction loss contingency pointed worth 80 basis points pricing frankly modest pricing improvements would around 30 basis points net together leaves us somewhere midpoint 11 sales', 1), ('okay helpful thanks', 0), ('yeah go ahead please', 1), ('sorry tom front potential divestitures', 0), ('yeah let first talk repurchase shares continued plans repurchase shares know set goal beginning year drive program achieve goal guidelines run board price ranges acquiring try make sure stay within run programs year see differences repurchased shares quarter taking actions mechanics lost interest still hitting targets year much want repurchase change strategy continuing secondly regard acquisition front mentioned actively working strategy areas talked investor conference feeling like making good progress said problem describing progress publicly something announce ca announce anything frustrating investors know frustrating share sentiment think point feel like making good progress means think able add growth platforms within tight constraints making sure strategically good also helps investors returns medium long run short run well last thing asked divestitures described investor conference review portfolio businesses every year oftentimes review yield much sometimes makes us think always looking businesses criteria one strategic fit meaning able create value business owner things links competencies share across business two meeting return guidelines know management action get place three way potentially add growth platforms otherwise reconstituting business way pretty active reviewing portfolio every single year year always active much like acquisition front course actually anything actually nothing say publicly bad employees bad everything else going say anything something want know someone writes us want investors know always think evaluate portfolio make sure management team actively managing businesses well managing one success', 1), ('righty interesting thanks get back queue', 0), ('going respond first question jamie calculations show us low 20s decrementals engine business maybe follow later pretty normal levels think', 1), ('okay thanks', 0), ('next question comes andrew casey wells fargo line open', 0), ('thanks lot good morning everybody', 0), ('morning andy', 1), ('couple kind cleanup questions guess contingency charges historical quarters clear risk could come back 2017', 0), ('okay yeah andy yeah believe clear process booked think estimated charge change', 1), ('okay thanks rich beijing foton jv talked costs incurred improve sort productivity stuff going first could quantify fourth quarter pretty sharp falloff want make sure anything else going expect jv contribution kind play 2017 start weak get back year', 0), ('okay let take mark need correct numbers jump yes isg take charge q4 quantify roughly 25 million reminding folks product remain excited fact share foton 75 frankly run issues certain duty cycles added applications certain regions either fuel quality service practices things learned wished would happened changed fundamental view think charge q1 lesser degree think kind half eliminated go kind q2 q3 isg strategy changed like 28 38 went china brand new product market compete take product globally done 28 38 producing quite frankly went little bit issue introductions entered new markets 28 38 inside china selling outside china even euro 5 euro 6 levels strategies thing isg changed approach', 1), ('would add assumed flat markets heavy medium guidance even environment expected earnings growth projected share gains rich said improving earnings year unfolds', 1), ('okay okay great lastly similar question think tim asked respect north america could kind discuss seeing china point clearly indicated construction equipment coming back truck fairly good second half year last year market bases yet talking said mark kind flat markets truck china kind going', 0), ('yeah projecting flat although would say sentiment even weeks go gets little positive negative andy new weight restrictions put place helping enforced think signs positiveness put work staying fairly conservative forecast sustainability still questions know ranges people positive us truck market right going plan around flat capacity standpoint course flex meet better', 1), ('construction market andy improving remember starting far far cry good markets yeah pleased see move got long way go think going pretty gradual improvement overall lot overhang equipment still still lot dealer inventory ways industry go happy see improvement', 1), ('yeah lot momentum high horsepower side would say', 1), ('okay thank much', 0), ('thanks andy', 1), ('next question comes jerry revich goldman sachs line open', 0), ('hi good morning everyone', 0), ('hi jerry', 1), ('hi jerry', 1), ('wondering could talk updated timing engine production ramp truck sounds like quality issues china unrelated based description laid rich maybe update us timeframe also new platform opportunities volvo exiting engine', 0), ('okay yeah thanks jerry yeah first clearly unrelated quality issues going taking care customers kind related specific either regions duty cycles china nothing changed schedule begin see trucks late year material 2017 agreements multiple oems begin offering remain excited question volvo exclusive two customers navistar paccar pleased say exclusive third volvo announcement discontinuing', 1), ('rich sorry number platforms available give us rough flavor', 0), ('least two', 1), ('okay okay tom back discussion folks really focused driving structurally higher returns capital course time leading company wondering signaling longer term focus returns capital potential absorb lower returns near term build meaningful growth platform via acquisitions maybe could talk folks changing framework terms timeframe targeting types return capital folks generated internally', 0), ('definitely trying signal change anything always medium view return capital never changed know operate cyclical company things go go even returns capital long return cycles business matter course course frustrating difficult manage frankly case definitely trying signal anything talked talked potential acquisitions joint ventures partnerships high return guidelines believe served investors well retain attitude need earn good returns capital new things like existing things taking long ventures things generate return would good shareholders going also know going make investments inorganic put together plan think works shareholders make sense means far short term medium term long term depends see get need everyone else know backing anything regard view generating strong returns shareholders wo long could tell', 1), ('thank much', 0), ('next question comes joe vertical research line open', 0), ('hi good morning specifically power gen looking another year 2017 could talk depressed business think looking years declines declines look like peak beyond general macro signs looking conditions start turn whether end markets geographies start look hope power gen given multiyear declines seen', 0), ('yeah start high level would say quite rightly said long term five years row really weak markets driven low capital investment especially developing markets strong positions also capital spending two trends strong negatives business time regard depressed pretty depressed let mark give like much percent certainly lot capacity took action last year restructure capacity try reduce costs way allowed us ramp back things turn still remain highly confident business underlying economics economic drivers return one thing see demand electricity markets certainly developing countries increasing terms amount economy depends reliable power also see investments reliable power declining economies decline still believe economies relying form grid support either standby generation sophisticated needs data centers et cetera terms straight backup power regions much much less reliable power believe fundamental things place long tough decline worked actively try reduce impact declines tough run mark want comment percentages', 1), ('yeah think talking 30 five years ago business dependent one part economy one particular upcycle downcycle think tom said cases always lack demand like latin america lot demand got case lot customer liquidity issues holding back movement projects year starting early last year middle east quite well started roll combination circumstances would say europe stable north america stable little bit really emerging markets tom said last three four years', 1), ('thanks details tax rate looking think 26 2017 think representative tax rate basis anything unique 2017 go back year ago think looking something kind high 20 range want think kind longer term outlook right tax rate', 0), ('well thing different two things different 2017 compared said 12 months ago one lower share profits coming know carries higher tax rate today secondly changes last months uk legislation impact business real reason delta reported 2016 26 2017 biggest factor going geographic mix earnings long term', 1), ('okay thank', 0), ('next question comes david raso evercore isi line open', 0), ('hi thank question component guidance appears implying decremental margin 55 4 revenue decline wanted get color think decrementals poor', 0), ('hey david rich take really fundamentally two things one volume north america projecting two mentioned startup costs associated new single module aftertreatment aftertreatment business remind making really big change small change aftertreatment one half size half weight taking maintenance intervals factor two brand new product startup kinds expedited costs q4 mentioned continue q1 two things really dragging 2017', 1), ('much investments even hit 30 decremental adds almost guidance year trying think big costs get better feel reasonable guidance', 0), ('well aftertreatment piece startup talking 20 million 30 million range year know incremental margins seen volumes come back volumes come back normal levels happens see turnaround', 1), ('thing would throw david go back answer jamie cook earlier seeing inflation metal markets impacting segment seeing impact compensation inflation two three headwinds impacting us 2017 figure way get back normal margins', 1), ('see improvement second half versus first half', 1), ('yeah nickel dime even cost startup still implying decrementals 40 trying make sure mean inflation problems particular components segments', 0), ('thinking view guidance said kind overview taking pretty conservative view bad markets think biggest opportunity components business north american markets strengthen faster guidance probably reasonable view opinion would one thing could take look wanted view going continue manage conservatively going continue find ways take costs know satisfied decremental margins level pleased working hard figure make less impact giving forecast based think understand right continue work decremental margins business profitable good business cummins going continue make', 1), ('last quick question conversation think strategically versus secular issues aware well benefits built distribution acquisitions think two markets impact strategy', 0), ('yeah said bigger volume tends drive lot technology course strong position fact lead emissions technologies helped us build strong position hand quite rightly said less vertical integration also distribution well positioned globally serve bunch markets people ca serve important roles strategy frankly think one advantages cummins able put two together way drives synergies others ca think strategically think things might thinking areas continue use synergy two drive returns shareholders others', 1), ('appreciate thanks tom', 0), ('right thank think top hour thanks everyone questions adam available later', 1)]]\n"
     ]
    }
   ],
   "source": [
    "print(transcripts[1300])"
   ]
  },
  {
   "cell_type": "code",
   "execution_count": 4,
   "metadata": {},
   "outputs": [
    {
     "name": "stdout",
     "output_type": "stream",
     "text": [
      "(7378, 91406)\n"
     ]
    }
   ],
   "source": [
    "print(id_to_row['2017-02-09 15:24:33'])"
   ]
  },
  {
   "cell_type": "code",
   "execution_count": 5,
   "metadata": {},
   "outputs": [],
   "source": [
    "# Loop through all available words to create a corpus\n",
    "corpus = []\n",
    "for i in range(len(transcripts)): # Adjust after testing\n",
    "    statement = transcripts[i][2]\n",
    "    for j in range(len(statement)): corpus.append(statement[j])   \n",
    "    qna = transcripts[i][3]\n",
    "    for j in range(len(qna)): corpus.append(qna[j][0])"
   ]
  },
  {
   "cell_type": "code",
   "execution_count": 6,
   "metadata": {},
   "outputs": [
    {
     "data": {
      "text/plain": [
       "CountVectorizer(analyzer='word', binary=False, decode_error='strict',\n",
       "        dtype=<class 'numpy.int64'>, encoding='utf-8', input='content',\n",
       "        lowercase=True, max_df=1.0, max_features=None, min_df=1,\n",
       "        ngram_range=(1, 1), preprocessor=None, stop_words=None,\n",
       "        strip_accents=None, token_pattern='(?u)\\\\b\\\\w\\\\w+\\\\b',\n",
       "        tokenizer=None, vocabulary=None)"
      ]
     },
     "execution_count": 6,
     "metadata": {},
     "output_type": "execute_result"
    }
   ],
   "source": [
    "vectorizer = CountVectorizer()\n",
    "vectorizer.fit(corpus)"
   ]
  },
  {
   "cell_type": "code",
   "execution_count": 7,
   "metadata": {},
   "outputs": [],
   "source": [
    "vectorized_transcripts = []\n",
    "for i in range(len(transcripts)):\n",
    "    new_transcript, vectorized_statement, vectorized_qna = [], [], []\n",
    "    new_transcript.append(transcripts[i][0])\n",
    "    new_transcript.append(transcripts[i][1])\n",
    "    \n",
    "    statement = transcripts[i][2]\n",
    "    for j in range(len(statement)): \n",
    "        vectorized_statement.append(vectorizer.transform([statement[j]]))  \n",
    "    new_transcript.append(vectorized_statement)\n",
    "    \n",
    "    qna = transcripts[i][3]\n",
    "    for j in range(len(qna)): \n",
    "        qna_vec = vectorizer.transform([qna[j][0]])\n",
    "        vectorized_qna.append((qna_vec, qna[j][1]))\n",
    "    new_transcript.append(vectorized_qna)\n",
    "    vectorized_transcripts.append(new_transcript)"
   ]
  },
  {
   "cell_type": "code",
   "execution_count": 8,
   "metadata": {},
   "outputs": [
    {
     "name": "stdout",
     "output_type": "stream",
     "text": [
      "['Cummins, Inc.', '2017-02-09 15:24:33', [<1x65352 sparse matrix of type '<class 'numpy.int64'>'\n",
      "\twith 31 stored elements in Compressed Sparse Row format>, <1x65352 sparse matrix of type '<class 'numpy.int64'>'\n",
      "\twith 55 stored elements in Compressed Sparse Row format>, <1x65352 sparse matrix of type '<class 'numpy.int64'>'\n",
      "\twith 45 stored elements in Compressed Sparse Row format>, <1x65352 sparse matrix of type '<class 'numpy.int64'>'\n",
      "\twith 47 stored elements in Compressed Sparse Row format>, <1x65352 sparse matrix of type '<class 'numpy.int64'>'\n",
      "\twith 53 stored elements in Compressed Sparse Row format>, <1x65352 sparse matrix of type '<class 'numpy.int64'>'\n",
      "\twith 53 stored elements in Compressed Sparse Row format>, <1x65352 sparse matrix of type '<class 'numpy.int64'>'\n",
      "\twith 51 stored elements in Compressed Sparse Row format>, <1x65352 sparse matrix of type '<class 'numpy.int64'>'\n",
      "\twith 57 stored elements in Compressed Sparse Row format>, <1x65352 sparse matrix of type '<class 'numpy.int64'>'\n",
      "\twith 49 stored elements in Compressed Sparse Row format>, <1x65352 sparse matrix of type '<class 'numpy.int64'>'\n",
      "\twith 43 stored elements in Compressed Sparse Row format>, <1x65352 sparse matrix of type '<class 'numpy.int64'>'\n",
      "\twith 50 stored elements in Compressed Sparse Row format>, <1x65352 sparse matrix of type '<class 'numpy.int64'>'\n",
      "\twith 51 stored elements in Compressed Sparse Row format>, <1x65352 sparse matrix of type '<class 'numpy.int64'>'\n",
      "\twith 51 stored elements in Compressed Sparse Row format>, <1x65352 sparse matrix of type '<class 'numpy.int64'>'\n",
      "\twith 51 stored elements in Compressed Sparse Row format>, <1x65352 sparse matrix of type '<class 'numpy.int64'>'\n",
      "\twith 51 stored elements in Compressed Sparse Row format>, <1x65352 sparse matrix of type '<class 'numpy.int64'>'\n",
      "\twith 46 stored elements in Compressed Sparse Row format>, <1x65352 sparse matrix of type '<class 'numpy.int64'>'\n",
      "\twith 48 stored elements in Compressed Sparse Row format>, <1x65352 sparse matrix of type '<class 'numpy.int64'>'\n",
      "\twith 54 stored elements in Compressed Sparse Row format>, <1x65352 sparse matrix of type '<class 'numpy.int64'>'\n",
      "\twith 51 stored elements in Compressed Sparse Row format>, <1x65352 sparse matrix of type '<class 'numpy.int64'>'\n",
      "\twith 57 stored elements in Compressed Sparse Row format>, <1x65352 sparse matrix of type '<class 'numpy.int64'>'\n",
      "\twith 48 stored elements in Compressed Sparse Row format>, <1x65352 sparse matrix of type '<class 'numpy.int64'>'\n",
      "\twith 52 stored elements in Compressed Sparse Row format>, <1x65352 sparse matrix of type '<class 'numpy.int64'>'\n",
      "\twith 50 stored elements in Compressed Sparse Row format>, <1x65352 sparse matrix of type '<class 'numpy.int64'>'\n",
      "\twith 52 stored elements in Compressed Sparse Row format>, <1x65352 sparse matrix of type '<class 'numpy.int64'>'\n",
      "\twith 50 stored elements in Compressed Sparse Row format>, <1x65352 sparse matrix of type '<class 'numpy.int64'>'\n",
      "\twith 47 stored elements in Compressed Sparse Row format>, <1x65352 sparse matrix of type '<class 'numpy.int64'>'\n",
      "\twith 53 stored elements in Compressed Sparse Row format>, <1x65352 sparse matrix of type '<class 'numpy.int64'>'\n",
      "\twith 47 stored elements in Compressed Sparse Row format>, <1x65352 sparse matrix of type '<class 'numpy.int64'>'\n",
      "\twith 51 stored elements in Compressed Sparse Row format>, <1x65352 sparse matrix of type '<class 'numpy.int64'>'\n",
      "\twith 52 stored elements in Compressed Sparse Row format>, <1x65352 sparse matrix of type '<class 'numpy.int64'>'\n",
      "\twith 43 stored elements in Compressed Sparse Row format>, <1x65352 sparse matrix of type '<class 'numpy.int64'>'\n",
      "\twith 43 stored elements in Compressed Sparse Row format>, <1x65352 sparse matrix of type '<class 'numpy.int64'>'\n",
      "\twith 50 stored elements in Compressed Sparse Row format>, <1x65352 sparse matrix of type '<class 'numpy.int64'>'\n",
      "\twith 44 stored elements in Compressed Sparse Row format>, <1x65352 sparse matrix of type '<class 'numpy.int64'>'\n",
      "\twith 50 stored elements in Compressed Sparse Row format>, <1x65352 sparse matrix of type '<class 'numpy.int64'>'\n",
      "\twith 53 stored elements in Compressed Sparse Row format>, <1x65352 sparse matrix of type '<class 'numpy.int64'>'\n",
      "\twith 52 stored elements in Compressed Sparse Row format>, <1x65352 sparse matrix of type '<class 'numpy.int64'>'\n",
      "\twith 49 stored elements in Compressed Sparse Row format>, <1x65352 sparse matrix of type '<class 'numpy.int64'>'\n",
      "\twith 57 stored elements in Compressed Sparse Row format>, <1x65352 sparse matrix of type '<class 'numpy.int64'>'\n",
      "\twith 5 stored elements in Compressed Sparse Row format>], [(<1x65352 sparse matrix of type '<class 'numpy.int64'>'\n",
      "\twith 8 stored elements in Compressed Sparse Row format>, 0), (<1x65352 sparse matrix of type '<class 'numpy.int64'>'\n",
      "\twith 33 stored elements in Compressed Sparse Row format>, 0), (<1x65352 sparse matrix of type '<class 'numpy.int64'>'\n",
      "\twith 84 stored elements in Compressed Sparse Row format>, 1), (<1x65352 sparse matrix of type '<class 'numpy.int64'>'\n",
      "\twith 105 stored elements in Compressed Sparse Row format>, 1), (<1x65352 sparse matrix of type '<class 'numpy.int64'>'\n",
      "\twith 3 stored elements in Compressed Sparse Row format>, 1), (<1x65352 sparse matrix of type '<class 'numpy.int64'>'\n",
      "\twith 4 stored elements in Compressed Sparse Row format>, 1), (<1x65352 sparse matrix of type '<class 'numpy.int64'>'\n",
      "\twith 26 stored elements in Compressed Sparse Row format>, 0), (<1x65352 sparse matrix of type '<class 'numpy.int64'>'\n",
      "\twith 20 stored elements in Compressed Sparse Row format>, 1), (<1x65352 sparse matrix of type '<class 'numpy.int64'>'\n",
      "\twith 3 stored elements in Compressed Sparse Row format>, 0), (<1x65352 sparse matrix of type '<class 'numpy.int64'>'\n",
      "\twith 11 stored elements in Compressed Sparse Row format>, 1), (<1x65352 sparse matrix of type '<class 'numpy.int64'>'\n",
      "\twith 2 stored elements in Compressed Sparse Row format>, 0), (<1x65352 sparse matrix of type '<class 'numpy.int64'>'\n",
      "\twith 2 stored elements in Compressed Sparse Row format>, 1), (<1x65352 sparse matrix of type '<class 'numpy.int64'>'\n",
      "\twith 10 stored elements in Compressed Sparse Row format>, 0), (<1x65352 sparse matrix of type '<class 'numpy.int64'>'\n",
      "\twith 78 stored elements in Compressed Sparse Row format>, 0), (<1x65352 sparse matrix of type '<class 'numpy.int64'>'\n",
      "\twith 58 stored elements in Compressed Sparse Row format>, 1), (<1x65352 sparse matrix of type '<class 'numpy.int64'>'\n",
      "\twith 55 stored elements in Compressed Sparse Row format>, 1), (<1x65352 sparse matrix of type '<class 'numpy.int64'>'\n",
      "\twith 3 stored elements in Compressed Sparse Row format>, 0), (<1x65352 sparse matrix of type '<class 'numpy.int64'>'\n",
      "\twith 4 stored elements in Compressed Sparse Row format>, 1), (<1x65352 sparse matrix of type '<class 'numpy.int64'>'\n",
      "\twith 5 stored elements in Compressed Sparse Row format>, 0), (<1x65352 sparse matrix of type '<class 'numpy.int64'>'\n",
      "\twith 151 stored elements in Compressed Sparse Row format>, 1), (<1x65352 sparse matrix of type '<class 'numpy.int64'>'\n",
      "\twith 6 stored elements in Compressed Sparse Row format>, 0), (<1x65352 sparse matrix of type '<class 'numpy.int64'>'\n",
      "\twith 20 stored elements in Compressed Sparse Row format>, 1), (<1x65352 sparse matrix of type '<class 'numpy.int64'>'\n",
      "\twith 2 stored elements in Compressed Sparse Row format>, 0), (<1x65352 sparse matrix of type '<class 'numpy.int64'>'\n",
      "\twith 9 stored elements in Compressed Sparse Row format>, 0), (<1x65352 sparse matrix of type '<class 'numpy.int64'>'\n",
      "\twith 5 stored elements in Compressed Sparse Row format>, 0), (<1x65352 sparse matrix of type '<class 'numpy.int64'>'\n",
      "\twith 2 stored elements in Compressed Sparse Row format>, 1), (<1x65352 sparse matrix of type '<class 'numpy.int64'>'\n",
      "\twith 15 stored elements in Compressed Sparse Row format>, 0), (<1x65352 sparse matrix of type '<class 'numpy.int64'>'\n",
      "\twith 11 stored elements in Compressed Sparse Row format>, 1), (<1x65352 sparse matrix of type '<class 'numpy.int64'>'\n",
      "\twith 37 stored elements in Compressed Sparse Row format>, 0), (<1x65352 sparse matrix of type '<class 'numpy.int64'>'\n",
      "\twith 86 stored elements in Compressed Sparse Row format>, 1), (<1x65352 sparse matrix of type '<class 'numpy.int64'>'\n",
      "\twith 21 stored elements in Compressed Sparse Row format>, 1), (<1x65352 sparse matrix of type '<class 'numpy.int64'>'\n",
      "\twith 39 stored elements in Compressed Sparse Row format>, 0), (<1x65352 sparse matrix of type '<class 'numpy.int64'>'\n",
      "\twith 49 stored elements in Compressed Sparse Row format>, 1), (<1x65352 sparse matrix of type '<class 'numpy.int64'>'\n",
      "\twith 33 stored elements in Compressed Sparse Row format>, 1), (<1x65352 sparse matrix of type '<class 'numpy.int64'>'\n",
      "\twith 8 stored elements in Compressed Sparse Row format>, 1), (<1x65352 sparse matrix of type '<class 'numpy.int64'>'\n",
      "\twith 3 stored elements in Compressed Sparse Row format>, 0), (<1x65352 sparse matrix of type '<class 'numpy.int64'>'\n",
      "\twith 2 stored elements in Compressed Sparse Row format>, 1), (<1x65352 sparse matrix of type '<class 'numpy.int64'>'\n",
      "\twith 9 stored elements in Compressed Sparse Row format>, 0), (<1x65352 sparse matrix of type '<class 'numpy.int64'>'\n",
      "\twith 4 stored elements in Compressed Sparse Row format>, 0), (<1x65352 sparse matrix of type '<class 'numpy.int64'>'\n",
      "\twith 2 stored elements in Compressed Sparse Row format>, 1), (<1x65352 sparse matrix of type '<class 'numpy.int64'>'\n",
      "\twith 2 stored elements in Compressed Sparse Row format>, 1), (<1x65352 sparse matrix of type '<class 'numpy.int64'>'\n",
      "\twith 29 stored elements in Compressed Sparse Row format>, 0), (<1x65352 sparse matrix of type '<class 'numpy.int64'>'\n",
      "\twith 48 stored elements in Compressed Sparse Row format>, 1), (<1x65352 sparse matrix of type '<class 'numpy.int64'>'\n",
      "\twith 9 stored elements in Compressed Sparse Row format>, 0), (<1x65352 sparse matrix of type '<class 'numpy.int64'>'\n",
      "\twith 2 stored elements in Compressed Sparse Row format>, 1), (<1x65352 sparse matrix of type '<class 'numpy.int64'>'\n",
      "\twith 43 stored elements in Compressed Sparse Row format>, 0), (<1x65352 sparse matrix of type '<class 'numpy.int64'>'\n",
      "\twith 81 stored elements in Compressed Sparse Row format>, 1), (<1x65352 sparse matrix of type '<class 'numpy.int64'>'\n",
      "\twith 2 stored elements in Compressed Sparse Row format>, 0), (<1x65352 sparse matrix of type '<class 'numpy.int64'>'\n",
      "\twith 8 stored elements in Compressed Sparse Row format>, 0), (<1x65352 sparse matrix of type '<class 'numpy.int64'>'\n",
      "\twith 35 stored elements in Compressed Sparse Row format>, 0), (<1x65352 sparse matrix of type '<class 'numpy.int64'>'\n",
      "\twith 114 stored elements in Compressed Sparse Row format>, 1), (<1x65352 sparse matrix of type '<class 'numpy.int64'>'\n",
      "\twith 58 stored elements in Compressed Sparse Row format>, 1), (<1x65352 sparse matrix of type '<class 'numpy.int64'>'\n",
      "\twith 26 stored elements in Compressed Sparse Row format>, 0), (<1x65352 sparse matrix of type '<class 'numpy.int64'>'\n",
      "\twith 43 stored elements in Compressed Sparse Row format>, 1), (<1x65352 sparse matrix of type '<class 'numpy.int64'>'\n",
      "\twith 2 stored elements in Compressed Sparse Row format>, 0), (<1x65352 sparse matrix of type '<class 'numpy.int64'>'\n",
      "\twith 9 stored elements in Compressed Sparse Row format>, 0), (<1x65352 sparse matrix of type '<class 'numpy.int64'>'\n",
      "\twith 18 stored elements in Compressed Sparse Row format>, 0), (<1x65352 sparse matrix of type '<class 'numpy.int64'>'\n",
      "\twith 43 stored elements in Compressed Sparse Row format>, 1), (<1x65352 sparse matrix of type '<class 'numpy.int64'>'\n",
      "\twith 18 stored elements in Compressed Sparse Row format>, 0), (<1x65352 sparse matrix of type '<class 'numpy.int64'>'\n",
      "\twith 22 stored elements in Compressed Sparse Row format>, 1), (<1x65352 sparse matrix of type '<class 'numpy.int64'>'\n",
      "\twith 28 stored elements in Compressed Sparse Row format>, 1), (<1x65352 sparse matrix of type '<class 'numpy.int64'>'\n",
      "\twith 6 stored elements in Compressed Sparse Row format>, 1), (<1x65352 sparse matrix of type '<class 'numpy.int64'>'\n",
      "\twith 19 stored elements in Compressed Sparse Row format>, 0), (<1x65352 sparse matrix of type '<class 'numpy.int64'>'\n",
      "\twith 58 stored elements in Compressed Sparse Row format>, 1), (<1x65352 sparse matrix of type '<class 'numpy.int64'>'\n",
      "\twith 19 stored elements in Compressed Sparse Row format>, 0), (<1x65352 sparse matrix of type '<class 'numpy.int64'>'\n",
      "\twith 60 stored elements in Compressed Sparse Row format>, 1), (<1x65352 sparse matrix of type '<class 'numpy.int64'>'\n",
      "\twith 3 stored elements in Compressed Sparse Row format>, 0), (<1x65352 sparse matrix of type '<class 'numpy.int64'>'\n",
      "\twith 11 stored elements in Compressed Sparse Row format>, 1)]]\n"
     ]
    }
   ],
   "source": [
    "print(vectorized_transcripts[1300])"
   ]
  },
  {
   "cell_type": "code",
   "execution_count": 15,
   "metadata": {},
   "outputs": [],
   "source": [
    "with open('embeddings/vectorized_transcripts.pickle', 'wb') as f:\n",
    "    pickle.dump(vectorized_transcripts, f)"
   ]
  },
  {
   "cell_type": "code",
   "execution_count": null,
   "metadata": {},
   "outputs": [],
   "source": [
    "with open('embeddings/vectorized_transcripts.pickle', 'rb') as f:\n",
    "    test_vectorized_transcripts_load = pickle.load(f)"
   ]
  },
  {
   "cell_type": "code",
   "execution_count": null,
   "metadata": {},
   "outputs": [],
   "source": [
    "print(test_vectorized_transcripts_load[1300])"
   ]
  },
  {
   "cell_type": "code",
   "execution_count": null,
   "metadata": {},
   "outputs": [],
   "source": []
  }
 ],
 "metadata": {
  "kernelspec": {
   "display_name": "Python 3",
   "language": "python",
   "name": "python3"
  },
  "language_info": {
   "codemirror_mode": {
    "name": "ipython",
    "version": 3
   },
   "file_extension": ".py",
   "mimetype": "text/x-python",
   "name": "python",
   "nbconvert_exporter": "python",
   "pygments_lexer": "ipython3",
   "version": "3.6.5"
  }
 },
 "nbformat": 4,
 "nbformat_minor": 2
}
